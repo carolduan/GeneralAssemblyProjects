{
 "cells": [
  {
   "cell_type": "markdown",
   "metadata": {},
   "source": [
    "# Ames House pricing Prediction\n",
    "  \n",
    "In this project, I created a regression model based on the Ames Housing Dataset. This model will predict the price of a house at sale.\n"
   ]
  },
  {
   "cell_type": "markdown",
   "metadata": {},
   "source": [
    "# 1. Define problem\n",
    "### Target:\n",
    "\n",
    "House price in Ames, IA (sale_price is a continuous variable) \n",
    "\n",
    "### Problem Type:\n",
    "\n",
    "Regression & Predictions\n",
    "\n",
    "### My Workflow:\n",
    "\n",
    "- Inferences: Get knowledge of the most important price-related features of the property that people care about when buying a house in Ames, IA\n",
    "- Predictions: Predict the price of house at sale in Ames, IA based on the important features of the property"
   ]
  },
  {
   "cell_type": "markdown",
   "metadata": {},
   "source": [
    "# 2. Gather Data\n",
    "Load the Ames Iowa Housing dataset"
   ]
  },
  {
   "cell_type": "code",
   "execution_count": 1,
   "metadata": {},
   "outputs": [],
   "source": [
    "import pandas as pd\n",
    "from sklearn.linear_model import Ridge, Lasso, ElasticNet, LinearRegression, RidgeCV, LassoCV, ElasticNetCV\n",
    "from sklearn.model_selection import train_test_split, KFold, cross_val_score\n",
    "from sklearn.feature_selection import RFE, SelectKBest, f_regression\n",
    "from sklearn.preprocessing import PolynomialFeatures, StandardScaler\n",
    "from matplotlib import pyplot as plt\n",
    "import numpy as np\n",
    "from scipy import stats\n",
    "import seaborn as sns\n",
    "\n",
    "%config InlineBackend.figure_format = 'retina'\n",
    "%matplotlib inline"
   ]
  },
  {
   "cell_type": "code",
   "execution_count": 2,
   "metadata": {
    "scrolled": true
   },
   "outputs": [
    {
     "name": "stdout",
     "output_type": "stream",
     "text": [
      "<class 'pandas.core.frame.DataFrame'>\n",
      "RangeIndex: 2051 entries, 0 to 2050\n",
      "Data columns (total 81 columns):\n",
      "Id                 2051 non-null int64\n",
      "PID                2051 non-null int64\n",
      "MS SubClass        2051 non-null int64\n",
      "MS Zoning          2051 non-null object\n",
      "Lot Frontage       1721 non-null float64\n",
      "Lot Area           2051 non-null int64\n",
      "Street             2051 non-null object\n",
      "Alley              140 non-null object\n",
      "Lot Shape          2051 non-null object\n",
      "Land Contour       2051 non-null object\n",
      "Utilities          2051 non-null object\n",
      "Lot Config         2051 non-null object\n",
      "Land Slope         2051 non-null object\n",
      "Neighborhood       2051 non-null object\n",
      "Condition 1        2051 non-null object\n",
      "Condition 2        2051 non-null object\n",
      "Bldg Type          2051 non-null object\n",
      "House Style        2051 non-null object\n",
      "Overall Qual       2051 non-null int64\n",
      "Overall Cond       2051 non-null int64\n",
      "Year Built         2051 non-null int64\n",
      "Year Remod/Add     2051 non-null int64\n",
      "Roof Style         2051 non-null object\n",
      "Roof Matl          2051 non-null object\n",
      "Exterior 1st       2051 non-null object\n",
      "Exterior 2nd       2051 non-null object\n",
      "Mas Vnr Type       2029 non-null object\n",
      "Mas Vnr Area       2029 non-null float64\n",
      "Exter Qual         2051 non-null object\n",
      "Exter Cond         2051 non-null object\n",
      "Foundation         2051 non-null object\n",
      "Bsmt Qual          1996 non-null object\n",
      "Bsmt Cond          1996 non-null object\n",
      "Bsmt Exposure      1993 non-null object\n",
      "BsmtFin Type 1     1996 non-null object\n",
      "BsmtFin SF 1       2050 non-null float64\n",
      "BsmtFin Type 2     1995 non-null object\n",
      "BsmtFin SF 2       2050 non-null float64\n",
      "Bsmt Unf SF        2050 non-null float64\n",
      "Total Bsmt SF      2050 non-null float64\n",
      "Heating            2051 non-null object\n",
      "Heating QC         2051 non-null object\n",
      "Central Air        2051 non-null object\n",
      "Electrical         2051 non-null object\n",
      "1st Flr SF         2051 non-null int64\n",
      "2nd Flr SF         2051 non-null int64\n",
      "Low Qual Fin SF    2051 non-null int64\n",
      "Gr Liv Area        2051 non-null int64\n",
      "Bsmt Full Bath     2049 non-null float64\n",
      "Bsmt Half Bath     2049 non-null float64\n",
      "Full Bath          2051 non-null int64\n",
      "Half Bath          2051 non-null int64\n",
      "Bedroom AbvGr      2051 non-null int64\n",
      "Kitchen AbvGr      2051 non-null int64\n",
      "Kitchen Qual       2051 non-null object\n",
      "TotRms AbvGrd      2051 non-null int64\n",
      "Functional         2051 non-null object\n",
      "Fireplaces         2051 non-null int64\n",
      "Fireplace Qu       1051 non-null object\n",
      "Garage Type        1938 non-null object\n",
      "Garage Yr Blt      1937 non-null float64\n",
      "Garage Finish      1937 non-null object\n",
      "Garage Cars        2050 non-null float64\n",
      "Garage Area        2050 non-null float64\n",
      "Garage Qual        1937 non-null object\n",
      "Garage Cond        1937 non-null object\n",
      "Paved Drive        2051 non-null object\n",
      "Wood Deck SF       2051 non-null int64\n",
      "Open Porch SF      2051 non-null int64\n",
      "Enclosed Porch     2051 non-null int64\n",
      "3Ssn Porch         2051 non-null int64\n",
      "Screen Porch       2051 non-null int64\n",
      "Pool Area          2051 non-null int64\n",
      "Pool QC            9 non-null object\n",
      "Fence              400 non-null object\n",
      "Misc Feature       65 non-null object\n",
      "Misc Val           2051 non-null int64\n",
      "Mo Sold            2051 non-null int64\n",
      "Yr Sold            2051 non-null int64\n",
      "Sale Type          2051 non-null object\n",
      "SalePrice          2051 non-null int64\n",
      "dtypes: float64(11), int64(28), object(42)\n",
      "memory usage: 1.3+ MB\n"
     ]
    }
   ],
   "source": [
    "# load the data\n",
    "df = pd.read_csv(\"train.csv\")\n",
    "df.info()"
   ]
  },
  {
   "cell_type": "markdown",
   "metadata": {},
   "source": [
    "# 3. Explore & Clean Data\n",
    "1. Check null values\n",
    "2. Check data type for each columns\n",
    "3. Split features and target\n",
    "3. Get dummy variables for categorical features (for training / testing / predicting dataset together)\n",
    "4. Training / Testing dataset splitting"
   ]
  },
  {
   "cell_type": "code",
   "execution_count": 3,
   "metadata": {
    "scrolled": true
   },
   "outputs": [
    {
     "data": {
      "text/plain": [
       "Pool QC            2042\n",
       "Misc Feature       1986\n",
       "Alley              1911\n",
       "Fence              1651\n",
       "Fireplace Qu       1000\n",
       "Lot Frontage        330\n",
       "Garage Finish       114\n",
       "Garage Cond         114\n",
       "Garage Qual         114\n",
       "Garage Yr Blt       114\n",
       "Garage Type         113\n",
       "Bsmt Exposure        58\n",
       "BsmtFin Type 2       56\n",
       "BsmtFin Type 1       55\n",
       "Bsmt Cond            55\n",
       "Bsmt Qual            55\n",
       "Mas Vnr Type         22\n",
       "Mas Vnr Area         22\n",
       "Bsmt Half Bath        2\n",
       "Bsmt Full Bath        2\n",
       "Garage Cars           1\n",
       "Garage Area           1\n",
       "Bsmt Unf SF           1\n",
       "BsmtFin SF 2          1\n",
       "Total Bsmt SF         1\n",
       "BsmtFin SF 1          1\n",
       "Overall Cond          0\n",
       "Exterior 2nd          0\n",
       "Exterior 1st          0\n",
       "Roof Matl             0\n",
       "                   ... \n",
       "Heating               0\n",
       "Exter Cond            0\n",
       "TotRms AbvGrd         0\n",
       "Yr Sold               0\n",
       "Mo Sold               0\n",
       "Misc Val              0\n",
       "Pool Area             0\n",
       "Screen Porch          0\n",
       "3Ssn Porch            0\n",
       "Enclosed Porch        0\n",
       "Open Porch SF         0\n",
       "Wood Deck SF          0\n",
       "Paved Drive           0\n",
       "Fireplaces            0\n",
       "Functional            0\n",
       "Kitchen Qual          0\n",
       "Foundation            0\n",
       "Kitchen AbvGr         0\n",
       "Bedroom AbvGr         0\n",
       "Half Bath             0\n",
       "Full Bath             0\n",
       "Gr Liv Area           0\n",
       "Low Qual Fin SF       0\n",
       "2nd Flr SF            0\n",
       "1st Flr SF            0\n",
       "Electrical            0\n",
       "Central Air           0\n",
       "Heating QC            0\n",
       "Sale Type             0\n",
       "Id                    0\n",
       "Length: 81, dtype: int64"
      ]
     },
     "execution_count": 3,
     "metadata": {},
     "output_type": "execute_result"
    }
   ],
   "source": [
    "df.isnull().sum().sort_values(ascending=False)"
   ]
  },
  {
   "cell_type": "code",
   "execution_count": 4,
   "metadata": {
    "scrolled": true
   },
   "outputs": [
    {
     "name": "stdout",
     "output_type": "stream",
     "text": [
      "<class 'pandas.core.frame.DataFrame'>\n",
      "RangeIndex: 2051 entries, 0 to 2050\n",
      "Data columns (total 81 columns):\n",
      "Id                 2051 non-null int64\n",
      "PID                2051 non-null int64\n",
      "MS SubClass        2051 non-null int64\n",
      "MS Zoning          2051 non-null object\n",
      "Lot Frontage       2051 non-null float64\n",
      "Lot Area           2051 non-null int64\n",
      "Street             2051 non-null object\n",
      "Alley              2051 non-null object\n",
      "Lot Shape          2051 non-null object\n",
      "Land Contour       2051 non-null object\n",
      "Utilities          2051 non-null object\n",
      "Lot Config         2051 non-null object\n",
      "Land Slope         2051 non-null object\n",
      "Neighborhood       2051 non-null object\n",
      "Condition 1        2051 non-null object\n",
      "Condition 2        2051 non-null object\n",
      "Bldg Type          2051 non-null object\n",
      "House Style        2051 non-null object\n",
      "Overall Qual       2051 non-null int64\n",
      "Overall Cond       2051 non-null int64\n",
      "Year Built         2051 non-null int64\n",
      "Year Remod/Add     2051 non-null int64\n",
      "Roof Style         2051 non-null object\n",
      "Roof Matl          2051 non-null object\n",
      "Exterior 1st       2051 non-null object\n",
      "Exterior 2nd       2051 non-null object\n",
      "Mas Vnr Type       2051 non-null object\n",
      "Mas Vnr Area       2051 non-null float64\n",
      "Exter Qual         2051 non-null object\n",
      "Exter Cond         2051 non-null object\n",
      "Foundation         2051 non-null object\n",
      "Bsmt Qual          2051 non-null object\n",
      "Bsmt Cond          2051 non-null object\n",
      "Bsmt Exposure      2051 non-null object\n",
      "BsmtFin Type 1     2051 non-null object\n",
      "BsmtFin SF 1       2051 non-null float64\n",
      "BsmtFin Type 2     2051 non-null object\n",
      "BsmtFin SF 2       2051 non-null float64\n",
      "Bsmt Unf SF        2051 non-null float64\n",
      "Total Bsmt SF      2051 non-null float64\n",
      "Heating            2051 non-null object\n",
      "Heating QC         2051 non-null object\n",
      "Central Air        2051 non-null object\n",
      "Electrical         2051 non-null object\n",
      "1st Flr SF         2051 non-null int64\n",
      "2nd Flr SF         2051 non-null int64\n",
      "Low Qual Fin SF    2051 non-null int64\n",
      "Gr Liv Area        2051 non-null int64\n",
      "Bsmt Full Bath     2051 non-null float64\n",
      "Bsmt Half Bath     2051 non-null float64\n",
      "Full Bath          2051 non-null int64\n",
      "Half Bath          2051 non-null int64\n",
      "Bedroom AbvGr      2051 non-null int64\n",
      "Kitchen AbvGr      2051 non-null int64\n",
      "Kitchen Qual       2051 non-null object\n",
      "TotRms AbvGrd      2051 non-null int64\n",
      "Functional         2051 non-null object\n",
      "Fireplaces         2051 non-null int64\n",
      "Fireplace Qu       2051 non-null object\n",
      "Garage Type        2051 non-null object\n",
      "Garage Yr Blt      2051 non-null float64\n",
      "Garage Finish      2051 non-null object\n",
      "Garage Cars        2051 non-null float64\n",
      "Garage Area        2051 non-null float64\n",
      "Garage Qual        2051 non-null object\n",
      "Garage Cond        2051 non-null object\n",
      "Paved Drive        2051 non-null object\n",
      "Wood Deck SF       2051 non-null int64\n",
      "Open Porch SF      2051 non-null int64\n",
      "Enclosed Porch     2051 non-null int64\n",
      "3Ssn Porch         2051 non-null int64\n",
      "Screen Porch       2051 non-null int64\n",
      "Pool Area          2051 non-null int64\n",
      "Pool QC            2051 non-null object\n",
      "Fence              2051 non-null object\n",
      "Misc Feature       2051 non-null object\n",
      "Misc Val           2051 non-null int64\n",
      "Mo Sold            2051 non-null int64\n",
      "Yr Sold            2051 non-null int64\n",
      "Sale Type          2051 non-null object\n",
      "SalePrice          2051 non-null int64\n",
      "dtypes: float64(11), int64(28), object(42)\n",
      "memory usage: 1.3+ MB\n"
     ]
    }
   ],
   "source": [
    "# Based on my investigation about the \"null\" values, the null values in numeric columns should be 0,\n",
    "# The null values in categorical columns are the same as \"None\" or \"doesn't have\", which we can also use \"0\" to replace\n",
    "df.fillna(value=0,inplace=True)\n",
    "df.info()"
   ]
  },
  {
   "cell_type": "code",
   "execution_count": 5,
   "metadata": {
    "scrolled": true
   },
   "outputs": [
    {
     "data": {
      "text/html": [
       "<div>\n",
       "<style scoped>\n",
       "    .dataframe tbody tr th:only-of-type {\n",
       "        vertical-align: middle;\n",
       "    }\n",
       "\n",
       "    .dataframe tbody tr th {\n",
       "        vertical-align: top;\n",
       "    }\n",
       "\n",
       "    .dataframe thead th {\n",
       "        text-align: right;\n",
       "    }\n",
       "</style>\n",
       "<table border=\"1\" class=\"dataframe\">\n",
       "  <thead>\n",
       "    <tr style=\"text-align: right;\">\n",
       "      <th></th>\n",
       "      <th>Id</th>\n",
       "      <th>PID</th>\n",
       "      <th>MS SubClass</th>\n",
       "      <th>Lot Frontage</th>\n",
       "      <th>Lot Area</th>\n",
       "      <th>Overall Qual</th>\n",
       "      <th>Overall Cond</th>\n",
       "      <th>Year Built</th>\n",
       "      <th>Year Remod/Add</th>\n",
       "      <th>Mas Vnr Area</th>\n",
       "      <th>...</th>\n",
       "      <th>Wood Deck SF</th>\n",
       "      <th>Open Porch SF</th>\n",
       "      <th>Enclosed Porch</th>\n",
       "      <th>3Ssn Porch</th>\n",
       "      <th>Screen Porch</th>\n",
       "      <th>Pool Area</th>\n",
       "      <th>Misc Val</th>\n",
       "      <th>Mo Sold</th>\n",
       "      <th>Yr Sold</th>\n",
       "      <th>SalePrice</th>\n",
       "    </tr>\n",
       "  </thead>\n",
       "  <tbody>\n",
       "    <tr>\n",
       "      <th>count</th>\n",
       "      <td>2051.000000</td>\n",
       "      <td>2.051000e+03</td>\n",
       "      <td>2051.000000</td>\n",
       "      <td>2051.000000</td>\n",
       "      <td>2051.000000</td>\n",
       "      <td>2051.000000</td>\n",
       "      <td>2051.000000</td>\n",
       "      <td>2051.000000</td>\n",
       "      <td>2051.000000</td>\n",
       "      <td>2051.000000</td>\n",
       "      <td>...</td>\n",
       "      <td>2051.000000</td>\n",
       "      <td>2051.000000</td>\n",
       "      <td>2051.000000</td>\n",
       "      <td>2051.000000</td>\n",
       "      <td>2051.000000</td>\n",
       "      <td>2051.000000</td>\n",
       "      <td>2051.000000</td>\n",
       "      <td>2051.000000</td>\n",
       "      <td>2051.000000</td>\n",
       "      <td>2051.000000</td>\n",
       "    </tr>\n",
       "    <tr>\n",
       "      <th>mean</th>\n",
       "      <td>1474.033642</td>\n",
       "      <td>7.135900e+08</td>\n",
       "      <td>57.008776</td>\n",
       "      <td>57.944417</td>\n",
       "      <td>10065.208191</td>\n",
       "      <td>6.112140</td>\n",
       "      <td>5.562165</td>\n",
       "      <td>1971.708922</td>\n",
       "      <td>1984.190151</td>\n",
       "      <td>98.626524</td>\n",
       "      <td>...</td>\n",
       "      <td>93.833740</td>\n",
       "      <td>47.556802</td>\n",
       "      <td>22.571916</td>\n",
       "      <td>2.591419</td>\n",
       "      <td>16.511458</td>\n",
       "      <td>2.397855</td>\n",
       "      <td>51.574354</td>\n",
       "      <td>6.219893</td>\n",
       "      <td>2007.775719</td>\n",
       "      <td>181469.701609</td>\n",
       "    </tr>\n",
       "    <tr>\n",
       "      <th>std</th>\n",
       "      <td>843.980841</td>\n",
       "      <td>1.886918e+08</td>\n",
       "      <td>42.824223</td>\n",
       "      <td>33.137332</td>\n",
       "      <td>6742.488909</td>\n",
       "      <td>1.426271</td>\n",
       "      <td>1.104497</td>\n",
       "      <td>30.177889</td>\n",
       "      <td>21.036250</td>\n",
       "      <td>174.324690</td>\n",
       "      <td>...</td>\n",
       "      <td>128.549416</td>\n",
       "      <td>66.747241</td>\n",
       "      <td>59.845110</td>\n",
       "      <td>25.229615</td>\n",
       "      <td>57.374204</td>\n",
       "      <td>37.782570</td>\n",
       "      <td>573.393985</td>\n",
       "      <td>2.744736</td>\n",
       "      <td>1.312014</td>\n",
       "      <td>79258.659352</td>\n",
       "    </tr>\n",
       "    <tr>\n",
       "      <th>min</th>\n",
       "      <td>1.000000</td>\n",
       "      <td>5.263011e+08</td>\n",
       "      <td>20.000000</td>\n",
       "      <td>0.000000</td>\n",
       "      <td>1300.000000</td>\n",
       "      <td>1.000000</td>\n",
       "      <td>1.000000</td>\n",
       "      <td>1872.000000</td>\n",
       "      <td>1950.000000</td>\n",
       "      <td>0.000000</td>\n",
       "      <td>...</td>\n",
       "      <td>0.000000</td>\n",
       "      <td>0.000000</td>\n",
       "      <td>0.000000</td>\n",
       "      <td>0.000000</td>\n",
       "      <td>0.000000</td>\n",
       "      <td>0.000000</td>\n",
       "      <td>0.000000</td>\n",
       "      <td>1.000000</td>\n",
       "      <td>2006.000000</td>\n",
       "      <td>12789.000000</td>\n",
       "    </tr>\n",
       "    <tr>\n",
       "      <th>25%</th>\n",
       "      <td>753.500000</td>\n",
       "      <td>5.284581e+08</td>\n",
       "      <td>20.000000</td>\n",
       "      <td>43.500000</td>\n",
       "      <td>7500.000000</td>\n",
       "      <td>5.000000</td>\n",
       "      <td>5.000000</td>\n",
       "      <td>1953.500000</td>\n",
       "      <td>1964.500000</td>\n",
       "      <td>0.000000</td>\n",
       "      <td>...</td>\n",
       "      <td>0.000000</td>\n",
       "      <td>0.000000</td>\n",
       "      <td>0.000000</td>\n",
       "      <td>0.000000</td>\n",
       "      <td>0.000000</td>\n",
       "      <td>0.000000</td>\n",
       "      <td>0.000000</td>\n",
       "      <td>4.000000</td>\n",
       "      <td>2007.000000</td>\n",
       "      <td>129825.000000</td>\n",
       "    </tr>\n",
       "    <tr>\n",
       "      <th>50%</th>\n",
       "      <td>1486.000000</td>\n",
       "      <td>5.354532e+08</td>\n",
       "      <td>50.000000</td>\n",
       "      <td>63.000000</td>\n",
       "      <td>9430.000000</td>\n",
       "      <td>6.000000</td>\n",
       "      <td>5.000000</td>\n",
       "      <td>1974.000000</td>\n",
       "      <td>1993.000000</td>\n",
       "      <td>0.000000</td>\n",
       "      <td>...</td>\n",
       "      <td>0.000000</td>\n",
       "      <td>27.000000</td>\n",
       "      <td>0.000000</td>\n",
       "      <td>0.000000</td>\n",
       "      <td>0.000000</td>\n",
       "      <td>0.000000</td>\n",
       "      <td>0.000000</td>\n",
       "      <td>6.000000</td>\n",
       "      <td>2008.000000</td>\n",
       "      <td>162500.000000</td>\n",
       "    </tr>\n",
       "    <tr>\n",
       "      <th>75%</th>\n",
       "      <td>2198.000000</td>\n",
       "      <td>9.071801e+08</td>\n",
       "      <td>70.000000</td>\n",
       "      <td>78.000000</td>\n",
       "      <td>11513.500000</td>\n",
       "      <td>7.000000</td>\n",
       "      <td>6.000000</td>\n",
       "      <td>2001.000000</td>\n",
       "      <td>2004.000000</td>\n",
       "      <td>159.000000</td>\n",
       "      <td>...</td>\n",
       "      <td>168.000000</td>\n",
       "      <td>70.000000</td>\n",
       "      <td>0.000000</td>\n",
       "      <td>0.000000</td>\n",
       "      <td>0.000000</td>\n",
       "      <td>0.000000</td>\n",
       "      <td>0.000000</td>\n",
       "      <td>8.000000</td>\n",
       "      <td>2009.000000</td>\n",
       "      <td>214000.000000</td>\n",
       "    </tr>\n",
       "    <tr>\n",
       "      <th>max</th>\n",
       "      <td>2930.000000</td>\n",
       "      <td>9.241520e+08</td>\n",
       "      <td>190.000000</td>\n",
       "      <td>313.000000</td>\n",
       "      <td>159000.000000</td>\n",
       "      <td>10.000000</td>\n",
       "      <td>9.000000</td>\n",
       "      <td>2010.000000</td>\n",
       "      <td>2010.000000</td>\n",
       "      <td>1600.000000</td>\n",
       "      <td>...</td>\n",
       "      <td>1424.000000</td>\n",
       "      <td>547.000000</td>\n",
       "      <td>432.000000</td>\n",
       "      <td>508.000000</td>\n",
       "      <td>490.000000</td>\n",
       "      <td>800.000000</td>\n",
       "      <td>17000.000000</td>\n",
       "      <td>12.000000</td>\n",
       "      <td>2010.000000</td>\n",
       "      <td>611657.000000</td>\n",
       "    </tr>\n",
       "  </tbody>\n",
       "</table>\n",
       "<p>8 rows × 39 columns</p>\n",
       "</div>"
      ],
      "text/plain": [
       "                Id           PID  MS SubClass  Lot Frontage       Lot Area  \\\n",
       "count  2051.000000  2.051000e+03  2051.000000   2051.000000    2051.000000   \n",
       "mean   1474.033642  7.135900e+08    57.008776     57.944417   10065.208191   \n",
       "std     843.980841  1.886918e+08    42.824223     33.137332    6742.488909   \n",
       "min       1.000000  5.263011e+08    20.000000      0.000000    1300.000000   \n",
       "25%     753.500000  5.284581e+08    20.000000     43.500000    7500.000000   \n",
       "50%    1486.000000  5.354532e+08    50.000000     63.000000    9430.000000   \n",
       "75%    2198.000000  9.071801e+08    70.000000     78.000000   11513.500000   \n",
       "max    2930.000000  9.241520e+08   190.000000    313.000000  159000.000000   \n",
       "\n",
       "       Overall Qual  Overall Cond   Year Built  Year Remod/Add  Mas Vnr Area  \\\n",
       "count   2051.000000   2051.000000  2051.000000     2051.000000   2051.000000   \n",
       "mean       6.112140      5.562165  1971.708922     1984.190151     98.626524   \n",
       "std        1.426271      1.104497    30.177889       21.036250    174.324690   \n",
       "min        1.000000      1.000000  1872.000000     1950.000000      0.000000   \n",
       "25%        5.000000      5.000000  1953.500000     1964.500000      0.000000   \n",
       "50%        6.000000      5.000000  1974.000000     1993.000000      0.000000   \n",
       "75%        7.000000      6.000000  2001.000000     2004.000000    159.000000   \n",
       "max       10.000000      9.000000  2010.000000     2010.000000   1600.000000   \n",
       "\n",
       "           ...        Wood Deck SF  Open Porch SF  Enclosed Porch  \\\n",
       "count      ...         2051.000000    2051.000000     2051.000000   \n",
       "mean       ...           93.833740      47.556802       22.571916   \n",
       "std        ...          128.549416      66.747241       59.845110   \n",
       "min        ...            0.000000       0.000000        0.000000   \n",
       "25%        ...            0.000000       0.000000        0.000000   \n",
       "50%        ...            0.000000      27.000000        0.000000   \n",
       "75%        ...          168.000000      70.000000        0.000000   \n",
       "max        ...         1424.000000     547.000000      432.000000   \n",
       "\n",
       "        3Ssn Porch  Screen Porch    Pool Area      Misc Val      Mo Sold  \\\n",
       "count  2051.000000   2051.000000  2051.000000   2051.000000  2051.000000   \n",
       "mean      2.591419     16.511458     2.397855     51.574354     6.219893   \n",
       "std      25.229615     57.374204    37.782570    573.393985     2.744736   \n",
       "min       0.000000      0.000000     0.000000      0.000000     1.000000   \n",
       "25%       0.000000      0.000000     0.000000      0.000000     4.000000   \n",
       "50%       0.000000      0.000000     0.000000      0.000000     6.000000   \n",
       "75%       0.000000      0.000000     0.000000      0.000000     8.000000   \n",
       "max     508.000000    490.000000   800.000000  17000.000000    12.000000   \n",
       "\n",
       "           Yr Sold      SalePrice  \n",
       "count  2051.000000    2051.000000  \n",
       "mean   2007.775719  181469.701609  \n",
       "std       1.312014   79258.659352  \n",
       "min    2006.000000   12789.000000  \n",
       "25%    2007.000000  129825.000000  \n",
       "50%    2008.000000  162500.000000  \n",
       "75%    2009.000000  214000.000000  \n",
       "max    2010.000000  611657.000000  \n",
       "\n",
       "[8 rows x 39 columns]"
      ]
     },
     "execution_count": 5,
     "metadata": {},
     "output_type": "execute_result"
    }
   ],
   "source": [
    "df.describe()"
   ]
  },
  {
   "cell_type": "code",
   "execution_count": 6,
   "metadata": {
    "scrolled": false
   },
   "outputs": [
    {
     "data": {
      "text/html": [
       "<div>\n",
       "<style scoped>\n",
       "    .dataframe tbody tr th:only-of-type {\n",
       "        vertical-align: middle;\n",
       "    }\n",
       "\n",
       "    .dataframe tbody tr th {\n",
       "        vertical-align: top;\n",
       "    }\n",
       "\n",
       "    .dataframe thead th {\n",
       "        text-align: right;\n",
       "    }\n",
       "</style>\n",
       "<table border=\"1\" class=\"dataframe\">\n",
       "  <thead>\n",
       "    <tr style=\"text-align: right;\">\n",
       "      <th></th>\n",
       "      <th>id</th>\n",
       "      <th>pid</th>\n",
       "      <th>ms_subclass</th>\n",
       "      <th>ms_zoning</th>\n",
       "      <th>lot_frontage</th>\n",
       "      <th>lot_area</th>\n",
       "      <th>street</th>\n",
       "      <th>alley</th>\n",
       "      <th>lot_shape</th>\n",
       "      <th>land_contour</th>\n",
       "      <th>...</th>\n",
       "      <th>screen_porch</th>\n",
       "      <th>pool_area</th>\n",
       "      <th>pool_qc</th>\n",
       "      <th>fence</th>\n",
       "      <th>misc_feature</th>\n",
       "      <th>misc_val</th>\n",
       "      <th>mo_sold</th>\n",
       "      <th>yr_sold</th>\n",
       "      <th>sale_type</th>\n",
       "      <th>saleprice</th>\n",
       "    </tr>\n",
       "  </thead>\n",
       "  <tbody>\n",
       "    <tr>\n",
       "      <th>0</th>\n",
       "      <td>109</td>\n",
       "      <td>533352170</td>\n",
       "      <td>60</td>\n",
       "      <td>RL</td>\n",
       "      <td>0.0</td>\n",
       "      <td>13517</td>\n",
       "      <td>Pave</td>\n",
       "      <td>0</td>\n",
       "      <td>IR1</td>\n",
       "      <td>Lvl</td>\n",
       "      <td>...</td>\n",
       "      <td>0</td>\n",
       "      <td>0</td>\n",
       "      <td>0</td>\n",
       "      <td>0</td>\n",
       "      <td>0</td>\n",
       "      <td>0</td>\n",
       "      <td>3</td>\n",
       "      <td>2010</td>\n",
       "      <td>WD</td>\n",
       "      <td>130500</td>\n",
       "    </tr>\n",
       "    <tr>\n",
       "      <th>1</th>\n",
       "      <td>544</td>\n",
       "      <td>531379050</td>\n",
       "      <td>60</td>\n",
       "      <td>RL</td>\n",
       "      <td>43.0</td>\n",
       "      <td>11492</td>\n",
       "      <td>Pave</td>\n",
       "      <td>0</td>\n",
       "      <td>IR1</td>\n",
       "      <td>Lvl</td>\n",
       "      <td>...</td>\n",
       "      <td>0</td>\n",
       "      <td>0</td>\n",
       "      <td>0</td>\n",
       "      <td>0</td>\n",
       "      <td>0</td>\n",
       "      <td>0</td>\n",
       "      <td>4</td>\n",
       "      <td>2009</td>\n",
       "      <td>WD</td>\n",
       "      <td>220000</td>\n",
       "    </tr>\n",
       "    <tr>\n",
       "      <th>2</th>\n",
       "      <td>153</td>\n",
       "      <td>535304180</td>\n",
       "      <td>20</td>\n",
       "      <td>RL</td>\n",
       "      <td>68.0</td>\n",
       "      <td>7922</td>\n",
       "      <td>Pave</td>\n",
       "      <td>0</td>\n",
       "      <td>Reg</td>\n",
       "      <td>Lvl</td>\n",
       "      <td>...</td>\n",
       "      <td>0</td>\n",
       "      <td>0</td>\n",
       "      <td>0</td>\n",
       "      <td>0</td>\n",
       "      <td>0</td>\n",
       "      <td>0</td>\n",
       "      <td>1</td>\n",
       "      <td>2010</td>\n",
       "      <td>WD</td>\n",
       "      <td>109000</td>\n",
       "    </tr>\n",
       "    <tr>\n",
       "      <th>3</th>\n",
       "      <td>318</td>\n",
       "      <td>916386060</td>\n",
       "      <td>60</td>\n",
       "      <td>RL</td>\n",
       "      <td>73.0</td>\n",
       "      <td>9802</td>\n",
       "      <td>Pave</td>\n",
       "      <td>0</td>\n",
       "      <td>Reg</td>\n",
       "      <td>Lvl</td>\n",
       "      <td>...</td>\n",
       "      <td>0</td>\n",
       "      <td>0</td>\n",
       "      <td>0</td>\n",
       "      <td>0</td>\n",
       "      <td>0</td>\n",
       "      <td>0</td>\n",
       "      <td>4</td>\n",
       "      <td>2010</td>\n",
       "      <td>WD</td>\n",
       "      <td>174000</td>\n",
       "    </tr>\n",
       "    <tr>\n",
       "      <th>4</th>\n",
       "      <td>255</td>\n",
       "      <td>906425045</td>\n",
       "      <td>50</td>\n",
       "      <td>RL</td>\n",
       "      <td>82.0</td>\n",
       "      <td>14235</td>\n",
       "      <td>Pave</td>\n",
       "      <td>0</td>\n",
       "      <td>IR1</td>\n",
       "      <td>Lvl</td>\n",
       "      <td>...</td>\n",
       "      <td>0</td>\n",
       "      <td>0</td>\n",
       "      <td>0</td>\n",
       "      <td>0</td>\n",
       "      <td>0</td>\n",
       "      <td>0</td>\n",
       "      <td>3</td>\n",
       "      <td>2010</td>\n",
       "      <td>WD</td>\n",
       "      <td>138500</td>\n",
       "    </tr>\n",
       "  </tbody>\n",
       "</table>\n",
       "<p>5 rows × 81 columns</p>\n",
       "</div>"
      ],
      "text/plain": [
       "    id        pid  ms_subclass ms_zoning  lot_frontage  lot_area street alley  \\\n",
       "0  109  533352170           60        RL           0.0     13517   Pave     0   \n",
       "1  544  531379050           60        RL          43.0     11492   Pave     0   \n",
       "2  153  535304180           20        RL          68.0      7922   Pave     0   \n",
       "3  318  916386060           60        RL          73.0      9802   Pave     0   \n",
       "4  255  906425045           50        RL          82.0     14235   Pave     0   \n",
       "\n",
       "  lot_shape land_contour    ...     screen_porch pool_area pool_qc fence  \\\n",
       "0       IR1          Lvl    ...                0         0       0     0   \n",
       "1       IR1          Lvl    ...                0         0       0     0   \n",
       "2       Reg          Lvl    ...                0         0       0     0   \n",
       "3       Reg          Lvl    ...                0         0       0     0   \n",
       "4       IR1          Lvl    ...                0         0       0     0   \n",
       "\n",
       "  misc_feature misc_val mo_sold yr_sold  sale_type  saleprice  \n",
       "0            0        0       3    2010        WD      130500  \n",
       "1            0        0       4    2009        WD      220000  \n",
       "2            0        0       1    2010        WD      109000  \n",
       "3            0        0       4    2010        WD      174000  \n",
       "4            0        0       3    2010        WD      138500  \n",
       "\n",
       "[5 rows x 81 columns]"
      ]
     },
     "execution_count": 6,
     "metadata": {},
     "output_type": "execute_result"
    }
   ],
   "source": [
    "# rename df columns\n",
    "df.columns = [x.lower().replace(' ','_') for x in df.columns] \n",
    "df.head()"
   ]
  },
  {
   "cell_type": "code",
   "execution_count": 7,
   "metadata": {},
   "outputs": [
    {
     "data": {
      "text/plain": [
       "(2051, 80)"
      ]
     },
     "execution_count": 7,
     "metadata": {},
     "output_type": "execute_result"
    }
   ],
   "source": [
    "# slice X as features and y as target\n",
    "target = 'saleprice'\n",
    "features = [x for x in df.columns if x != target]\n",
    "X = df[features]\n",
    "y = df[target]\n",
    "X.shape"
   ]
  },
  {
   "cell_type": "code",
   "execution_count": 8,
   "metadata": {
    "scrolled": true
   },
   "outputs": [
    {
     "data": {
      "text/html": [
       "<div>\n",
       "<style scoped>\n",
       "    .dataframe tbody tr th:only-of-type {\n",
       "        vertical-align: middle;\n",
       "    }\n",
       "\n",
       "    .dataframe tbody tr th {\n",
       "        vertical-align: top;\n",
       "    }\n",
       "\n",
       "    .dataframe thead th {\n",
       "        text-align: right;\n",
       "    }\n",
       "</style>\n",
       "<table border=\"1\" class=\"dataframe\">\n",
       "  <thead>\n",
       "    <tr style=\"text-align: right;\">\n",
       "      <th></th>\n",
       "      <th>id</th>\n",
       "      <th>pid</th>\n",
       "      <th>ms_subclass</th>\n",
       "      <th>ms_zoning</th>\n",
       "      <th>lot_frontage</th>\n",
       "      <th>lot_area</th>\n",
       "      <th>street</th>\n",
       "      <th>alley</th>\n",
       "      <th>lot_shape</th>\n",
       "      <th>land_contour</th>\n",
       "      <th>...</th>\n",
       "      <th>3ssn_porch</th>\n",
       "      <th>screen_porch</th>\n",
       "      <th>pool_area</th>\n",
       "      <th>pool_qc</th>\n",
       "      <th>fence</th>\n",
       "      <th>misc_feature</th>\n",
       "      <th>misc_val</th>\n",
       "      <th>mo_sold</th>\n",
       "      <th>yr_sold</th>\n",
       "      <th>sale_type</th>\n",
       "    </tr>\n",
       "  </thead>\n",
       "  <tbody>\n",
       "    <tr>\n",
       "      <th>2046</th>\n",
       "      <td>1587</td>\n",
       "      <td>921126030</td>\n",
       "      <td>20</td>\n",
       "      <td>RL</td>\n",
       "      <td>79.0</td>\n",
       "      <td>11449</td>\n",
       "      <td>Pave</td>\n",
       "      <td>0</td>\n",
       "      <td>IR1</td>\n",
       "      <td>HLS</td>\n",
       "      <td>...</td>\n",
       "      <td>0</td>\n",
       "      <td>0</td>\n",
       "      <td>0</td>\n",
       "      <td>0</td>\n",
       "      <td>0</td>\n",
       "      <td>0</td>\n",
       "      <td>0</td>\n",
       "      <td>1</td>\n",
       "      <td>2008</td>\n",
       "      <td>WD</td>\n",
       "    </tr>\n",
       "    <tr>\n",
       "      <th>2047</th>\n",
       "      <td>785</td>\n",
       "      <td>905377130</td>\n",
       "      <td>30</td>\n",
       "      <td>RL</td>\n",
       "      <td>0.0</td>\n",
       "      <td>12342</td>\n",
       "      <td>Pave</td>\n",
       "      <td>0</td>\n",
       "      <td>IR1</td>\n",
       "      <td>Lvl</td>\n",
       "      <td>...</td>\n",
       "      <td>0</td>\n",
       "      <td>0</td>\n",
       "      <td>0</td>\n",
       "      <td>0</td>\n",
       "      <td>0</td>\n",
       "      <td>0</td>\n",
       "      <td>0</td>\n",
       "      <td>3</td>\n",
       "      <td>2009</td>\n",
       "      <td>WD</td>\n",
       "    </tr>\n",
       "    <tr>\n",
       "      <th>2048</th>\n",
       "      <td>916</td>\n",
       "      <td>909253010</td>\n",
       "      <td>50</td>\n",
       "      <td>RL</td>\n",
       "      <td>57.0</td>\n",
       "      <td>7558</td>\n",
       "      <td>Pave</td>\n",
       "      <td>0</td>\n",
       "      <td>Reg</td>\n",
       "      <td>Bnk</td>\n",
       "      <td>...</td>\n",
       "      <td>0</td>\n",
       "      <td>0</td>\n",
       "      <td>0</td>\n",
       "      <td>0</td>\n",
       "      <td>0</td>\n",
       "      <td>0</td>\n",
       "      <td>0</td>\n",
       "      <td>3</td>\n",
       "      <td>2009</td>\n",
       "      <td>WD</td>\n",
       "    </tr>\n",
       "    <tr>\n",
       "      <th>2049</th>\n",
       "      <td>639</td>\n",
       "      <td>535179160</td>\n",
       "      <td>20</td>\n",
       "      <td>RL</td>\n",
       "      <td>80.0</td>\n",
       "      <td>10400</td>\n",
       "      <td>Pave</td>\n",
       "      <td>0</td>\n",
       "      <td>Reg</td>\n",
       "      <td>Lvl</td>\n",
       "      <td>...</td>\n",
       "      <td>0</td>\n",
       "      <td>0</td>\n",
       "      <td>0</td>\n",
       "      <td>0</td>\n",
       "      <td>0</td>\n",
       "      <td>0</td>\n",
       "      <td>0</td>\n",
       "      <td>11</td>\n",
       "      <td>2009</td>\n",
       "      <td>WD</td>\n",
       "    </tr>\n",
       "    <tr>\n",
       "      <th>2050</th>\n",
       "      <td>10</td>\n",
       "      <td>527162130</td>\n",
       "      <td>60</td>\n",
       "      <td>RL</td>\n",
       "      <td>60.0</td>\n",
       "      <td>7500</td>\n",
       "      <td>Pave</td>\n",
       "      <td>0</td>\n",
       "      <td>Reg</td>\n",
       "      <td>Lvl</td>\n",
       "      <td>...</td>\n",
       "      <td>0</td>\n",
       "      <td>0</td>\n",
       "      <td>0</td>\n",
       "      <td>0</td>\n",
       "      <td>0</td>\n",
       "      <td>0</td>\n",
       "      <td>0</td>\n",
       "      <td>6</td>\n",
       "      <td>2010</td>\n",
       "      <td>WD</td>\n",
       "    </tr>\n",
       "  </tbody>\n",
       "</table>\n",
       "<p>5 rows × 80 columns</p>\n",
       "</div>"
      ],
      "text/plain": [
       "        id        pid  ms_subclass ms_zoning  lot_frontage  lot_area street  \\\n",
       "2046  1587  921126030           20        RL          79.0     11449   Pave   \n",
       "2047   785  905377130           30        RL           0.0     12342   Pave   \n",
       "2048   916  909253010           50        RL          57.0      7558   Pave   \n",
       "2049   639  535179160           20        RL          80.0     10400   Pave   \n",
       "2050    10  527162130           60        RL          60.0      7500   Pave   \n",
       "\n",
       "     alley lot_shape land_contour    ...     3ssn_porch screen_porch  \\\n",
       "2046     0       IR1          HLS    ...              0            0   \n",
       "2047     0       IR1          Lvl    ...              0            0   \n",
       "2048     0       Reg          Bnk    ...              0            0   \n",
       "2049     0       Reg          Lvl    ...              0            0   \n",
       "2050     0       Reg          Lvl    ...              0            0   \n",
       "\n",
       "     pool_area pool_qc fence misc_feature misc_val mo_sold  yr_sold  sale_type  \n",
       "2046         0       0     0            0        0       1     2008        WD   \n",
       "2047         0       0     0            0        0       3     2009        WD   \n",
       "2048         0       0     0            0        0       3     2009        WD   \n",
       "2049         0       0     0            0        0      11     2009        WD   \n",
       "2050         0       0     0            0        0       6     2010        WD   \n",
       "\n",
       "[5 rows x 80 columns]"
      ]
     },
     "execution_count": 8,
     "metadata": {},
     "output_type": "execute_result"
    }
   ],
   "source": [
    "X.tail()"
   ]
  },
  {
   "cell_type": "code",
   "execution_count": 9,
   "metadata": {},
   "outputs": [
    {
     "data": {
      "text/plain": [
       "(879, 80)"
      ]
     },
     "execution_count": 9,
     "metadata": {},
     "output_type": "execute_result"
    }
   ],
   "source": [
    "# load the predicting dataset in for dummy creation\n",
    "predict = pd.read_csv(\"test.csv\")\n",
    "\n",
    "# clean up predicting dataset a little bit\n",
    "predict.columns = [x.lower().replace(' ','_') for x in predict.columns]\n",
    "predict.fillna(value=0,inplace=True)\n",
    "predict.shape"
   ]
  },
  {
   "cell_type": "code",
   "execution_count": 10,
   "metadata": {},
   "outputs": [
    {
     "data": {
      "text/plain": [
       "(2930, 274)"
      ]
     },
     "execution_count": 10,
     "metadata": {},
     "output_type": "execute_result"
    }
   ],
   "source": [
    "# concat training and predicting data together and get dummy variables\n",
    "total = pd.concat([X,predict],axis=0)\n",
    "total = pd.get_dummies(total,drop_first=True)\n",
    "total.shape"
   ]
  },
  {
   "cell_type": "code",
   "execution_count": 11,
   "metadata": {
    "scrolled": true
   },
   "outputs": [
    {
     "data": {
      "text/plain": [
       "((2051, 274), (879, 274))"
      ]
     },
     "execution_count": 11,
     "metadata": {},
     "output_type": "execute_result"
    }
   ],
   "source": [
    "# split training and predicting dataset to different dataframe\n",
    "X = total.iloc[:len(X),:]\n",
    "predict = total.iloc[len(X):,:]\n",
    "X.shape, predict.shape"
   ]
  },
  {
   "cell_type": "code",
   "execution_count": 12,
   "metadata": {
    "scrolled": true
   },
   "outputs": [
    {
     "data": {
      "text/html": [
       "<div>\n",
       "<style scoped>\n",
       "    .dataframe tbody tr th:only-of-type {\n",
       "        vertical-align: middle;\n",
       "    }\n",
       "\n",
       "    .dataframe tbody tr th {\n",
       "        vertical-align: top;\n",
       "    }\n",
       "\n",
       "    .dataframe thead th {\n",
       "        text-align: right;\n",
       "    }\n",
       "</style>\n",
       "<table border=\"1\" class=\"dataframe\">\n",
       "  <thead>\n",
       "    <tr style=\"text-align: right;\">\n",
       "      <th></th>\n",
       "      <th>id</th>\n",
       "      <th>pid</th>\n",
       "      <th>ms_subclass</th>\n",
       "      <th>lot_frontage</th>\n",
       "      <th>lot_area</th>\n",
       "      <th>overall_qual</th>\n",
       "      <th>overall_cond</th>\n",
       "      <th>year_built</th>\n",
       "      <th>year_remod/add</th>\n",
       "      <th>mas_vnr_area</th>\n",
       "      <th>...</th>\n",
       "      <th>misc_feature_TenC</th>\n",
       "      <th>sale_type_CWD</th>\n",
       "      <th>sale_type_Con</th>\n",
       "      <th>sale_type_ConLD</th>\n",
       "      <th>sale_type_ConLI</th>\n",
       "      <th>sale_type_ConLw</th>\n",
       "      <th>sale_type_New</th>\n",
       "      <th>sale_type_Oth</th>\n",
       "      <th>sale_type_VWD</th>\n",
       "      <th>sale_type_WD</th>\n",
       "    </tr>\n",
       "  </thead>\n",
       "  <tbody>\n",
       "    <tr>\n",
       "      <th>2046</th>\n",
       "      <td>1587</td>\n",
       "      <td>921126030</td>\n",
       "      <td>20</td>\n",
       "      <td>79.0</td>\n",
       "      <td>11449</td>\n",
       "      <td>8</td>\n",
       "      <td>5</td>\n",
       "      <td>2007</td>\n",
       "      <td>2007</td>\n",
       "      <td>0.0</td>\n",
       "      <td>...</td>\n",
       "      <td>0</td>\n",
       "      <td>0</td>\n",
       "      <td>0</td>\n",
       "      <td>0</td>\n",
       "      <td>0</td>\n",
       "      <td>0</td>\n",
       "      <td>0</td>\n",
       "      <td>0</td>\n",
       "      <td>0</td>\n",
       "      <td>1</td>\n",
       "    </tr>\n",
       "    <tr>\n",
       "      <th>2047</th>\n",
       "      <td>785</td>\n",
       "      <td>905377130</td>\n",
       "      <td>30</td>\n",
       "      <td>0.0</td>\n",
       "      <td>12342</td>\n",
       "      <td>4</td>\n",
       "      <td>5</td>\n",
       "      <td>1940</td>\n",
       "      <td>1950</td>\n",
       "      <td>0.0</td>\n",
       "      <td>...</td>\n",
       "      <td>0</td>\n",
       "      <td>0</td>\n",
       "      <td>0</td>\n",
       "      <td>0</td>\n",
       "      <td>0</td>\n",
       "      <td>0</td>\n",
       "      <td>0</td>\n",
       "      <td>0</td>\n",
       "      <td>0</td>\n",
       "      <td>1</td>\n",
       "    </tr>\n",
       "    <tr>\n",
       "      <th>2048</th>\n",
       "      <td>916</td>\n",
       "      <td>909253010</td>\n",
       "      <td>50</td>\n",
       "      <td>57.0</td>\n",
       "      <td>7558</td>\n",
       "      <td>6</td>\n",
       "      <td>6</td>\n",
       "      <td>1928</td>\n",
       "      <td>1950</td>\n",
       "      <td>0.0</td>\n",
       "      <td>...</td>\n",
       "      <td>0</td>\n",
       "      <td>0</td>\n",
       "      <td>0</td>\n",
       "      <td>0</td>\n",
       "      <td>0</td>\n",
       "      <td>0</td>\n",
       "      <td>0</td>\n",
       "      <td>0</td>\n",
       "      <td>0</td>\n",
       "      <td>1</td>\n",
       "    </tr>\n",
       "    <tr>\n",
       "      <th>2049</th>\n",
       "      <td>639</td>\n",
       "      <td>535179160</td>\n",
       "      <td>20</td>\n",
       "      <td>80.0</td>\n",
       "      <td>10400</td>\n",
       "      <td>4</td>\n",
       "      <td>5</td>\n",
       "      <td>1956</td>\n",
       "      <td>1956</td>\n",
       "      <td>0.0</td>\n",
       "      <td>...</td>\n",
       "      <td>0</td>\n",
       "      <td>0</td>\n",
       "      <td>0</td>\n",
       "      <td>0</td>\n",
       "      <td>0</td>\n",
       "      <td>0</td>\n",
       "      <td>0</td>\n",
       "      <td>0</td>\n",
       "      <td>0</td>\n",
       "      <td>1</td>\n",
       "    </tr>\n",
       "    <tr>\n",
       "      <th>2050</th>\n",
       "      <td>10</td>\n",
       "      <td>527162130</td>\n",
       "      <td>60</td>\n",
       "      <td>60.0</td>\n",
       "      <td>7500</td>\n",
       "      <td>7</td>\n",
       "      <td>5</td>\n",
       "      <td>1999</td>\n",
       "      <td>1999</td>\n",
       "      <td>0.0</td>\n",
       "      <td>...</td>\n",
       "      <td>0</td>\n",
       "      <td>0</td>\n",
       "      <td>0</td>\n",
       "      <td>0</td>\n",
       "      <td>0</td>\n",
       "      <td>0</td>\n",
       "      <td>0</td>\n",
       "      <td>0</td>\n",
       "      <td>0</td>\n",
       "      <td>1</td>\n",
       "    </tr>\n",
       "  </tbody>\n",
       "</table>\n",
       "<p>5 rows × 274 columns</p>\n",
       "</div>"
      ],
      "text/plain": [
       "        id        pid  ms_subclass  lot_frontage  lot_area  overall_qual  \\\n",
       "2046  1587  921126030           20          79.0     11449             8   \n",
       "2047   785  905377130           30           0.0     12342             4   \n",
       "2048   916  909253010           50          57.0      7558             6   \n",
       "2049   639  535179160           20          80.0     10400             4   \n",
       "2050    10  527162130           60          60.0      7500             7   \n",
       "\n",
       "      overall_cond  year_built  year_remod/add  mas_vnr_area      ...        \\\n",
       "2046             5        2007            2007           0.0      ...         \n",
       "2047             5        1940            1950           0.0      ...         \n",
       "2048             6        1928            1950           0.0      ...         \n",
       "2049             5        1956            1956           0.0      ...         \n",
       "2050             5        1999            1999           0.0      ...         \n",
       "\n",
       "      misc_feature_TenC  sale_type_CWD  sale_type_Con  sale_type_ConLD  \\\n",
       "2046                  0              0              0                0   \n",
       "2047                  0              0              0                0   \n",
       "2048                  0              0              0                0   \n",
       "2049                  0              0              0                0   \n",
       "2050                  0              0              0                0   \n",
       "\n",
       "      sale_type_ConLI  sale_type_ConLw  sale_type_New  sale_type_Oth  \\\n",
       "2046                0                0              0              0   \n",
       "2047                0                0              0              0   \n",
       "2048                0                0              0              0   \n",
       "2049                0                0              0              0   \n",
       "2050                0                0              0              0   \n",
       "\n",
       "      sale_type_VWD  sale_type_WD   \n",
       "2046              0              1  \n",
       "2047              0              1  \n",
       "2048              0              1  \n",
       "2049              0              1  \n",
       "2050              0              1  \n",
       "\n",
       "[5 rows x 274 columns]"
      ]
     },
     "execution_count": 12,
     "metadata": {},
     "output_type": "execute_result"
    }
   ],
   "source": [
    "X.tail()"
   ]
  },
  {
   "cell_type": "code",
   "execution_count": 13,
   "metadata": {},
   "outputs": [],
   "source": [
    "# training / testing data set spliting\n",
    "X_train, X_test, y_train, y_test = train_test_split(X,y,random_state=42,shuffle=True)"
   ]
  },
  {
   "cell_type": "markdown",
   "metadata": {},
   "source": [
    "# 4. Feature Engineering on Training Dataset\n",
    "1. Manually drop \"id, pid\" columns \n",
    "2. Get polynomial features\n",
    "3. Standardize the features\n",
    "4. Decide to use Lasso regression model to help feature selections by eliminating the number of features\n",
    "2. After get the\"important features\", save the feature names for further modeling"
   ]
  },
  {
   "cell_type": "code",
   "execution_count": 14,
   "metadata": {},
   "outputs": [
    {
     "name": "stderr",
     "output_type": "stream",
     "text": [
      "/anaconda3/envs/dsi/lib/python3.6/site-packages/ipykernel/__main__.py:2: SettingWithCopyWarning: \n",
      "A value is trying to be set on a copy of a slice from a DataFrame\n",
      "\n",
      "See the caveats in the documentation: http://pandas.pydata.org/pandas-docs/stable/indexing.html#indexing-view-versus-copy\n",
      "  from ipykernel import kernelapp as app\n"
     ]
    }
   ],
   "source": [
    "# drop ids which won't be a good predictor\n",
    "X_train.drop(['id','pid'],axis=1,inplace=True)"
   ]
  },
  {
   "cell_type": "code",
   "execution_count": 15,
   "metadata": {},
   "outputs": [
    {
     "data": {
      "text/plain": [
       "(1538, 37400)"
      ]
     },
     "execution_count": 15,
     "metadata": {},
     "output_type": "execute_result"
    }
   ],
   "source": [
    "# creat PolynomialFeatures for training data\n",
    "poly = PolynomialFeatures(include_bias=False,degree=2)\n",
    "X_train_poly = poly.fit_transform(X_train)\n",
    "X_train_poly.shape"
   ]
  },
  {
   "cell_type": "code",
   "execution_count": 16,
   "metadata": {
    "scrolled": true
   },
   "outputs": [
    {
     "data": {
      "text/html": [
       "<div>\n",
       "<style scoped>\n",
       "    .dataframe tbody tr th:only-of-type {\n",
       "        vertical-align: middle;\n",
       "    }\n",
       "\n",
       "    .dataframe tbody tr th {\n",
       "        vertical-align: top;\n",
       "    }\n",
       "\n",
       "    .dataframe thead th {\n",
       "        text-align: right;\n",
       "    }\n",
       "</style>\n",
       "<table border=\"1\" class=\"dataframe\">\n",
       "  <thead>\n",
       "    <tr style=\"text-align: right;\">\n",
       "      <th></th>\n",
       "      <th>ms_subclass</th>\n",
       "      <th>lot_frontage</th>\n",
       "      <th>lot_area</th>\n",
       "      <th>overall_qual</th>\n",
       "      <th>overall_cond</th>\n",
       "      <th>year_built</th>\n",
       "      <th>year_remod/add</th>\n",
       "      <th>mas_vnr_area</th>\n",
       "      <th>bsmtfin_sf_1</th>\n",
       "      <th>bsmtfin_sf_2</th>\n",
       "      <th>...</th>\n",
       "      <th>sale_type_New^2</th>\n",
       "      <th>sale_type_New sale_type_Oth</th>\n",
       "      <th>sale_type_New sale_type_VWD</th>\n",
       "      <th>sale_type_New sale_type_WD</th>\n",
       "      <th>sale_type_Oth^2</th>\n",
       "      <th>sale_type_Oth sale_type_VWD</th>\n",
       "      <th>sale_type_Oth sale_type_WD</th>\n",
       "      <th>sale_type_VWD^2</th>\n",
       "      <th>sale_type_VWD sale_type_WD</th>\n",
       "      <th>sale_type_WD ^2</th>\n",
       "    </tr>\n",
       "  </thead>\n",
       "  <tbody>\n",
       "    <tr>\n",
       "      <th>0</th>\n",
       "      <td>20.0</td>\n",
       "      <td>85.0</td>\n",
       "      <td>10667.0</td>\n",
       "      <td>6.0</td>\n",
       "      <td>6.0</td>\n",
       "      <td>1971.0</td>\n",
       "      <td>1971.0</td>\n",
       "      <td>302.0</td>\n",
       "      <td>838.0</td>\n",
       "      <td>0.0</td>\n",
       "      <td>...</td>\n",
       "      <td>0.0</td>\n",
       "      <td>0.0</td>\n",
       "      <td>0.0</td>\n",
       "      <td>0.0</td>\n",
       "      <td>0.0</td>\n",
       "      <td>0.0</td>\n",
       "      <td>0.0</td>\n",
       "      <td>0.0</td>\n",
       "      <td>0.0</td>\n",
       "      <td>1.0</td>\n",
       "    </tr>\n",
       "    <tr>\n",
       "      <th>1</th>\n",
       "      <td>70.0</td>\n",
       "      <td>107.0</td>\n",
       "      <td>12888.0</td>\n",
       "      <td>7.0</td>\n",
       "      <td>8.0</td>\n",
       "      <td>1937.0</td>\n",
       "      <td>1980.0</td>\n",
       "      <td>0.0</td>\n",
       "      <td>288.0</td>\n",
       "      <td>0.0</td>\n",
       "      <td>...</td>\n",
       "      <td>0.0</td>\n",
       "      <td>0.0</td>\n",
       "      <td>0.0</td>\n",
       "      <td>0.0</td>\n",
       "      <td>0.0</td>\n",
       "      <td>0.0</td>\n",
       "      <td>0.0</td>\n",
       "      <td>0.0</td>\n",
       "      <td>0.0</td>\n",
       "      <td>1.0</td>\n",
       "    </tr>\n",
       "    <tr>\n",
       "      <th>2</th>\n",
       "      <td>20.0</td>\n",
       "      <td>60.0</td>\n",
       "      <td>7200.0</td>\n",
       "      <td>5.0</td>\n",
       "      <td>8.0</td>\n",
       "      <td>1950.0</td>\n",
       "      <td>2002.0</td>\n",
       "      <td>0.0</td>\n",
       "      <td>398.0</td>\n",
       "      <td>149.0</td>\n",
       "      <td>...</td>\n",
       "      <td>0.0</td>\n",
       "      <td>0.0</td>\n",
       "      <td>0.0</td>\n",
       "      <td>0.0</td>\n",
       "      <td>0.0</td>\n",
       "      <td>0.0</td>\n",
       "      <td>0.0</td>\n",
       "      <td>0.0</td>\n",
       "      <td>0.0</td>\n",
       "      <td>1.0</td>\n",
       "    </tr>\n",
       "    <tr>\n",
       "      <th>3</th>\n",
       "      <td>60.0</td>\n",
       "      <td>80.0</td>\n",
       "      <td>14000.0</td>\n",
       "      <td>7.0</td>\n",
       "      <td>5.0</td>\n",
       "      <td>1996.0</td>\n",
       "      <td>1997.0</td>\n",
       "      <td>0.0</td>\n",
       "      <td>1201.0</td>\n",
       "      <td>0.0</td>\n",
       "      <td>...</td>\n",
       "      <td>0.0</td>\n",
       "      <td>0.0</td>\n",
       "      <td>0.0</td>\n",
       "      <td>0.0</td>\n",
       "      <td>0.0</td>\n",
       "      <td>0.0</td>\n",
       "      <td>0.0</td>\n",
       "      <td>0.0</td>\n",
       "      <td>0.0</td>\n",
       "      <td>1.0</td>\n",
       "    </tr>\n",
       "    <tr>\n",
       "      <th>4</th>\n",
       "      <td>60.0</td>\n",
       "      <td>0.0</td>\n",
       "      <td>11929.0</td>\n",
       "      <td>8.0</td>\n",
       "      <td>7.0</td>\n",
       "      <td>1995.0</td>\n",
       "      <td>1995.0</td>\n",
       "      <td>466.0</td>\n",
       "      <td>0.0</td>\n",
       "      <td>0.0</td>\n",
       "      <td>...</td>\n",
       "      <td>0.0</td>\n",
       "      <td>0.0</td>\n",
       "      <td>0.0</td>\n",
       "      <td>0.0</td>\n",
       "      <td>0.0</td>\n",
       "      <td>0.0</td>\n",
       "      <td>0.0</td>\n",
       "      <td>0.0</td>\n",
       "      <td>0.0</td>\n",
       "      <td>1.0</td>\n",
       "    </tr>\n",
       "  </tbody>\n",
       "</table>\n",
       "<p>5 rows × 37400 columns</p>\n",
       "</div>"
      ],
      "text/plain": [
       "   ms_subclass  lot_frontage  lot_area  overall_qual  overall_cond  \\\n",
       "0         20.0          85.0   10667.0           6.0           6.0   \n",
       "1         70.0         107.0   12888.0           7.0           8.0   \n",
       "2         20.0          60.0    7200.0           5.0           8.0   \n",
       "3         60.0          80.0   14000.0           7.0           5.0   \n",
       "4         60.0           0.0   11929.0           8.0           7.0   \n",
       "\n",
       "   year_built  year_remod/add  mas_vnr_area  bsmtfin_sf_1  bsmtfin_sf_2  \\\n",
       "0      1971.0          1971.0         302.0         838.0           0.0   \n",
       "1      1937.0          1980.0           0.0         288.0           0.0   \n",
       "2      1950.0          2002.0           0.0         398.0         149.0   \n",
       "3      1996.0          1997.0           0.0        1201.0           0.0   \n",
       "4      1995.0          1995.0         466.0           0.0           0.0   \n",
       "\n",
       "        ...         sale_type_New^2  sale_type_New sale_type_Oth  \\\n",
       "0       ...                     0.0                          0.0   \n",
       "1       ...                     0.0                          0.0   \n",
       "2       ...                     0.0                          0.0   \n",
       "3       ...                     0.0                          0.0   \n",
       "4       ...                     0.0                          0.0   \n",
       "\n",
       "   sale_type_New sale_type_VWD  sale_type_New sale_type_WD   sale_type_Oth^2  \\\n",
       "0                          0.0                          0.0              0.0   \n",
       "1                          0.0                          0.0              0.0   \n",
       "2                          0.0                          0.0              0.0   \n",
       "3                          0.0                          0.0              0.0   \n",
       "4                          0.0                          0.0              0.0   \n",
       "\n",
       "   sale_type_Oth sale_type_VWD  sale_type_Oth sale_type_WD   sale_type_VWD^2  \\\n",
       "0                          0.0                          0.0              0.0   \n",
       "1                          0.0                          0.0              0.0   \n",
       "2                          0.0                          0.0              0.0   \n",
       "3                          0.0                          0.0              0.0   \n",
       "4                          0.0                          0.0              0.0   \n",
       "\n",
       "   sale_type_VWD sale_type_WD   sale_type_WD ^2  \n",
       "0                          0.0              1.0  \n",
       "1                          0.0              1.0  \n",
       "2                          0.0              1.0  \n",
       "3                          0.0              1.0  \n",
       "4                          0.0              1.0  \n",
       "\n",
       "[5 rows x 37400 columns]"
      ]
     },
     "execution_count": 16,
     "metadata": {},
     "output_type": "execute_result"
    }
   ],
   "source": [
    "X_train_poly_df=pd.DataFrame(X_train_poly,columns=poly.get_feature_names(X_train.columns))\n",
    "X_train_poly_df.head()"
   ]
  },
  {
   "cell_type": "code",
   "execution_count": 17,
   "metadata": {
    "scrolled": true
   },
   "outputs": [
    {
     "data": {
      "text/plain": [
       "(1538, 37400)"
      ]
     },
     "execution_count": 17,
     "metadata": {},
     "output_type": "execute_result"
    }
   ],
   "source": [
    "# standarize the features\n",
    "ss = StandardScaler()\n",
    "X_train_scaled = ss.fit_transform(X_train_poly)\n",
    "X_train_scaled.shape"
   ]
  },
  {
   "cell_type": "code",
   "execution_count": 18,
   "metadata": {},
   "outputs": [
    {
     "data": {
      "text/html": [
       "<div>\n",
       "<style scoped>\n",
       "    .dataframe tbody tr th:only-of-type {\n",
       "        vertical-align: middle;\n",
       "    }\n",
       "\n",
       "    .dataframe tbody tr th {\n",
       "        vertical-align: top;\n",
       "    }\n",
       "\n",
       "    .dataframe thead th {\n",
       "        text-align: right;\n",
       "    }\n",
       "</style>\n",
       "<table border=\"1\" class=\"dataframe\">\n",
       "  <thead>\n",
       "    <tr style=\"text-align: right;\">\n",
       "      <th></th>\n",
       "      <th>ms_subclass</th>\n",
       "      <th>lot_frontage</th>\n",
       "      <th>lot_area</th>\n",
       "      <th>overall_qual</th>\n",
       "      <th>overall_cond</th>\n",
       "      <th>year_built</th>\n",
       "      <th>year_remod/add</th>\n",
       "      <th>mas_vnr_area</th>\n",
       "      <th>bsmtfin_sf_1</th>\n",
       "      <th>bsmtfin_sf_2</th>\n",
       "      <th>...</th>\n",
       "      <th>sale_type_New^2</th>\n",
       "      <th>sale_type_New sale_type_Oth</th>\n",
       "      <th>sale_type_New sale_type_VWD</th>\n",
       "      <th>sale_type_New sale_type_WD</th>\n",
       "      <th>sale_type_Oth^2</th>\n",
       "      <th>sale_type_Oth sale_type_VWD</th>\n",
       "      <th>sale_type_Oth sale_type_WD</th>\n",
       "      <th>sale_type_VWD^2</th>\n",
       "      <th>sale_type_VWD sale_type_WD</th>\n",
       "      <th>sale_type_WD ^2</th>\n",
       "    </tr>\n",
       "  </thead>\n",
       "  <tbody>\n",
       "    <tr>\n",
       "      <th>0</th>\n",
       "      <td>-0.856027</td>\n",
       "      <td>0.798505</td>\n",
       "      <td>0.131102</td>\n",
       "      <td>-0.076947</td>\n",
       "      <td>0.400164</td>\n",
       "      <td>-0.028539</td>\n",
       "      <td>-0.629478</td>\n",
       "      <td>1.159913</td>\n",
       "      <td>0.840886</td>\n",
       "      <td>-0.283011</td>\n",
       "      <td>...</td>\n",
       "      <td>-0.285614</td>\n",
       "      <td>0.0</td>\n",
       "      <td>0.0</td>\n",
       "      <td>0.0</td>\n",
       "      <td>-0.044209</td>\n",
       "      <td>0.0</td>\n",
       "      <td>0.0</td>\n",
       "      <td>0.0</td>\n",
       "      <td>0.0</td>\n",
       "      <td>0.388841</td>\n",
       "    </tr>\n",
       "    <tr>\n",
       "      <th>1</th>\n",
       "      <td>0.301295</td>\n",
       "      <td>1.448310</td>\n",
       "      <td>0.540450</td>\n",
       "      <td>0.623315</td>\n",
       "      <td>2.218337</td>\n",
       "      <td>-1.155710</td>\n",
       "      <td>-0.199259</td>\n",
       "      <td>-0.558774</td>\n",
       "      <td>-0.331752</td>\n",
       "      <td>-0.283011</td>\n",
       "      <td>...</td>\n",
       "      <td>-0.285614</td>\n",
       "      <td>0.0</td>\n",
       "      <td>0.0</td>\n",
       "      <td>0.0</td>\n",
       "      <td>-0.044209</td>\n",
       "      <td>0.0</td>\n",
       "      <td>0.0</td>\n",
       "      <td>0.0</td>\n",
       "      <td>0.0</td>\n",
       "      <td>0.388841</td>\n",
       "    </tr>\n",
       "    <tr>\n",
       "      <th>2</th>\n",
       "      <td>-0.856027</td>\n",
       "      <td>0.060091</td>\n",
       "      <td>-0.507892</td>\n",
       "      <td>-0.777209</td>\n",
       "      <td>2.218337</td>\n",
       "      <td>-0.724733</td>\n",
       "      <td>0.852389</td>\n",
       "      <td>-0.558774</td>\n",
       "      <td>-0.097224</td>\n",
       "      <td>0.593720</td>\n",
       "      <td>...</td>\n",
       "      <td>-0.285614</td>\n",
       "      <td>0.0</td>\n",
       "      <td>0.0</td>\n",
       "      <td>0.0</td>\n",
       "      <td>-0.044209</td>\n",
       "      <td>0.0</td>\n",
       "      <td>0.0</td>\n",
       "      <td>0.0</td>\n",
       "      <td>0.0</td>\n",
       "      <td>0.388841</td>\n",
       "    </tr>\n",
       "    <tr>\n",
       "      <th>3</th>\n",
       "      <td>0.069831</td>\n",
       "      <td>0.650822</td>\n",
       "      <td>0.745400</td>\n",
       "      <td>0.623315</td>\n",
       "      <td>-0.508923</td>\n",
       "      <td>0.800262</td>\n",
       "      <td>0.613378</td>\n",
       "      <td>-0.558774</td>\n",
       "      <td>1.614827</td>\n",
       "      <td>-0.283011</td>\n",
       "      <td>...</td>\n",
       "      <td>-0.285614</td>\n",
       "      <td>0.0</td>\n",
       "      <td>0.0</td>\n",
       "      <td>0.0</td>\n",
       "      <td>-0.044209</td>\n",
       "      <td>0.0</td>\n",
       "      <td>0.0</td>\n",
       "      <td>0.0</td>\n",
       "      <td>0.0</td>\n",
       "      <td>0.388841</td>\n",
       "    </tr>\n",
       "    <tr>\n",
       "      <th>4</th>\n",
       "      <td>0.069831</td>\n",
       "      <td>-1.712103</td>\n",
       "      <td>0.363699</td>\n",
       "      <td>1.323577</td>\n",
       "      <td>1.309251</td>\n",
       "      <td>0.767110</td>\n",
       "      <td>0.517774</td>\n",
       "      <td>2.093240</td>\n",
       "      <td>-0.945787</td>\n",
       "      <td>-0.283011</td>\n",
       "      <td>...</td>\n",
       "      <td>-0.285614</td>\n",
       "      <td>0.0</td>\n",
       "      <td>0.0</td>\n",
       "      <td>0.0</td>\n",
       "      <td>-0.044209</td>\n",
       "      <td>0.0</td>\n",
       "      <td>0.0</td>\n",
       "      <td>0.0</td>\n",
       "      <td>0.0</td>\n",
       "      <td>0.388841</td>\n",
       "    </tr>\n",
       "  </tbody>\n",
       "</table>\n",
       "<p>5 rows × 37400 columns</p>\n",
       "</div>"
      ],
      "text/plain": [
       "   ms_subclass  lot_frontage  lot_area  overall_qual  overall_cond  \\\n",
       "0    -0.856027      0.798505  0.131102     -0.076947      0.400164   \n",
       "1     0.301295      1.448310  0.540450      0.623315      2.218337   \n",
       "2    -0.856027      0.060091 -0.507892     -0.777209      2.218337   \n",
       "3     0.069831      0.650822  0.745400      0.623315     -0.508923   \n",
       "4     0.069831     -1.712103  0.363699      1.323577      1.309251   \n",
       "\n",
       "   year_built  year_remod/add  mas_vnr_area  bsmtfin_sf_1  bsmtfin_sf_2  \\\n",
       "0   -0.028539       -0.629478      1.159913      0.840886     -0.283011   \n",
       "1   -1.155710       -0.199259     -0.558774     -0.331752     -0.283011   \n",
       "2   -0.724733        0.852389     -0.558774     -0.097224      0.593720   \n",
       "3    0.800262        0.613378     -0.558774      1.614827     -0.283011   \n",
       "4    0.767110        0.517774      2.093240     -0.945787     -0.283011   \n",
       "\n",
       "        ...         sale_type_New^2  sale_type_New sale_type_Oth  \\\n",
       "0       ...               -0.285614                          0.0   \n",
       "1       ...               -0.285614                          0.0   \n",
       "2       ...               -0.285614                          0.0   \n",
       "3       ...               -0.285614                          0.0   \n",
       "4       ...               -0.285614                          0.0   \n",
       "\n",
       "   sale_type_New sale_type_VWD  sale_type_New sale_type_WD   sale_type_Oth^2  \\\n",
       "0                          0.0                          0.0        -0.044209   \n",
       "1                          0.0                          0.0        -0.044209   \n",
       "2                          0.0                          0.0        -0.044209   \n",
       "3                          0.0                          0.0        -0.044209   \n",
       "4                          0.0                          0.0        -0.044209   \n",
       "\n",
       "   sale_type_Oth sale_type_VWD  sale_type_Oth sale_type_WD   sale_type_VWD^2  \\\n",
       "0                          0.0                          0.0              0.0   \n",
       "1                          0.0                          0.0              0.0   \n",
       "2                          0.0                          0.0              0.0   \n",
       "3                          0.0                          0.0              0.0   \n",
       "4                          0.0                          0.0              0.0   \n",
       "\n",
       "   sale_type_VWD sale_type_WD   sale_type_WD ^2  \n",
       "0                          0.0         0.388841  \n",
       "1                          0.0         0.388841  \n",
       "2                          0.0         0.388841  \n",
       "3                          0.0         0.388841  \n",
       "4                          0.0         0.388841  \n",
       "\n",
       "[5 rows x 37400 columns]"
      ]
     },
     "execution_count": 18,
     "metadata": {},
     "output_type": "execute_result"
    }
   ],
   "source": [
    "X_train_scaled_df=pd.DataFrame(X_train_scaled,columns=poly.get_feature_names(X_train.columns))\n",
    "X_train_scaled_df.head()"
   ]
  },
  {
   "cell_type": "code",
   "execution_count": 19,
   "metadata": {},
   "outputs": [
    {
     "data": {
      "text/plain": [
       "812.0487670259105"
      ]
     },
     "execution_count": 19,
     "metadata": {},
     "output_type": "execute_result"
    }
   ],
   "source": [
    "# Because there are too many predictors, trying to build a Lasso regression model and select the right features\n",
    "# Find an optimal value for lasso regression alpha using LassoCV\n",
    "lasso_model = LassoCV(n_alphas=100)\n",
    "lasso_model = lasso_model.fit(X_train_scaled, y_train)\n",
    "lasso_optimal_alpha = lasso_model.alpha_\n",
    "lasso_optimal_alpha"
   ]
  },
  {
   "cell_type": "code",
   "execution_count": 20,
   "metadata": {},
   "outputs": [
    {
     "name": "stderr",
     "output_type": "stream",
     "text": [
      "/anaconda3/envs/dsi/lib/python3.6/site-packages/sklearn/linear_model/coordinate_descent.py:491: ConvergenceWarning: Objective did not converge. You might want to increase the number of iterations. Fitting data with very small alpha may cause precision problems.\n",
      "  ConvergenceWarning)\n"
     ]
    },
    {
     "data": {
      "text/plain": [
       "0.7983608634379319"
      ]
     },
     "execution_count": 20,
     "metadata": {},
     "output_type": "execute_result"
    }
   ],
   "source": [
    "# build a lasso model using the optimal alpha, check the cross-validation score\n",
    "lasso_model = Lasso(alpha=lasso_optimal_alpha)\n",
    "cross_val_score(lasso_model, X_train_scaled, y_train).mean()"
   ]
  },
  {
   "cell_type": "code",
   "execution_count": 21,
   "metadata": {
    "scrolled": true
   },
   "outputs": [],
   "source": [
    "# fit the model\n",
    "lasso_model = lasso_model.fit(X_train_scaled, y_train)"
   ]
  },
  {
   "cell_type": "code",
   "execution_count": 22,
   "metadata": {
    "scrolled": true
   },
   "outputs": [
    {
     "data": {
      "text/plain": [
       "Index(['ms_subclass^2', 'ms_subclass ms_zoning_RM',\n",
       "       'ms_subclass lot_shape_Reg', 'ms_subclass bsmt_exposure_No',\n",
       "       'lot_frontage full_bath', 'lot_frontage half_bath',\n",
       "       'lot_frontage garage_cars', 'lot_frontage exterior_2nd_CmentBd',\n",
       "       'lot_frontage bsmtfin_type_2_GLQ', 'lot_frontage sale_type_Oth',\n",
       "       ...\n",
       "       'bsmtfin_type_1_Unf functional_Maj2',\n",
       "       'bsmtfin_type_1_Unf sale_type_Oth',\n",
       "       'bsmtfin_type_2_ALQ fireplace_qu_TA',\n",
       "       'bsmtfin_type_2_ALQ garage_finish_Fin',\n",
       "       'bsmtfin_type_2_Unf functional_Maj2',\n",
       "       'bsmtfin_type_2_Unf garage_type_2Types',\n",
       "       'kitchen_qual_Gd misc_feature_Othr', 'fireplace_qu_Gd pool_qc_Gd',\n",
       "       'garage_type_Detchd sale_type_Oth', 'pool_qc_Gd sale_type_New'],\n",
       "      dtype='object', length=368)"
      ]
     },
     "execution_count": 22,
     "metadata": {},
     "output_type": "execute_result"
    }
   ],
   "source": [
    "# check the lasso coefficients - 368 left\n",
    "lasso_coef = pd.Series(data=lasso_model.coef_, index=poly.get_feature_names(X_train.columns))\n",
    "lasso_coef = pd.DataFrame(data=lasso_coef)\n",
    "lasso_coef.rename(columns={0:'lasso_coef'},inplace=True)\n",
    "lasso_coef['lasso_coef_abs'] = lasso_coef['lasso_coef'].abs()\n",
    "lasso_coef.sort_values(by='lasso_coef_abs',ascending=False)\n",
    "features_picked = lasso_coef[lasso_coef.lasso_coef!=0].index\n",
    "features_picked"
   ]
  },
  {
   "cell_type": "code",
   "execution_count": 23,
   "metadata": {},
   "outputs": [
    {
     "data": {
      "text/plain": [
       "(1538, 368)"
      ]
     },
     "execution_count": 23,
     "metadata": {},
     "output_type": "execute_result"
    }
   ],
   "source": [
    "# slice X_train_scaled data to the picked predictors\n",
    "X_train_scaled_picked = X_train_scaled_df[features_picked]\n",
    "X_train_scaled_picked.shape"
   ]
  },
  {
   "cell_type": "markdown",
   "metadata": {},
   "source": [
    "# 5. Model with data & Evaluate\n",
    "### A. Modeling  \n",
    "1. Use Cross-validation to try Linear / Lasso / Ridge / Elastic Net regression model and see which one perform better on the training dataset\n",
    "2. Compared the cross-validation results, Ridge is the best, but we still want to test them on the test dataset to make sure they are not overfitting  \n",
    "\n",
    "### B. Evaluation  \n",
    "1. Clean up testing dataset - Same process to training dataset\n",
    "2. Feature engineering on testing dataset - Same process to training dataset\n",
    "3. Fit the models using training data and use the testing dataset to score each models (Linear / Lasso / Ridge / Elastic Net regression) to see which one has the highest score \n",
    "4. Lasso got the highest score on testing dataset (0.93 r2 score), which is pretty good. So I decided to use this model to do prediction\n",
    "\n",
    "### C. Optimization  \n",
    "After decision (Lasso regression model), for optimization purpose, I'm building the real model using the entire training + testing dataset I have to make a better model (lasso_model_2)\n"
   ]
  },
  {
   "cell_type": "markdown",
   "metadata": {},
   "source": [
    "### A. Modeling"
   ]
  },
  {
   "cell_type": "code",
   "execution_count": 24,
   "metadata": {},
   "outputs": [
    {
     "data": {
      "text/plain": [
       "-3.1510322321266766e+22"
      ]
     },
     "execution_count": 24,
     "metadata": {},
     "output_type": "execute_result"
    }
   ],
   "source": [
    "# Try LinearRegression for the picked features, it's so bad\n",
    "lr = LinearRegression()\n",
    "lr_model = lr.fit(X_train_scaled_picked,y_train)\n",
    "cross_val_score(lr_model, X_train_scaled_picked, y_train).mean()"
   ]
  },
  {
   "cell_type": "code",
   "execution_count": 25,
   "metadata": {
    "scrolled": true
   },
   "outputs": [
    {
     "data": {
      "text/plain": [
       "65.86777910394683"
      ]
     },
     "execution_count": 25,
     "metadata": {},
     "output_type": "execute_result"
    }
   ],
   "source": [
    "# Try Lasso Regression\n",
    "lasso_model_1 = LassoCV(n_alphas=200)\n",
    "lasso_model_1 = lasso_model_1.fit(X_train_scaled_picked, y_train)\n",
    "lasso_optimal_alpha_1 = lasso_model_1.alpha_\n",
    "lasso_optimal_alpha_1"
   ]
  },
  {
   "cell_type": "code",
   "execution_count": 26,
   "metadata": {
    "scrolled": false
   },
   "outputs": [
    {
     "data": {
      "text/plain": [
       "0.8414126748286502"
      ]
     },
     "execution_count": 26,
     "metadata": {},
     "output_type": "execute_result"
    }
   ],
   "source": [
    "lasso_model_1 = Lasso(alpha=lasso_optimal_alpha,max_iter=10000)\n",
    "cross_val_score(lasso_model_1, X_train_scaled_picked, y_train).mean()"
   ]
  },
  {
   "cell_type": "code",
   "execution_count": 27,
   "metadata": {},
   "outputs": [
    {
     "data": {
      "text/plain": [
       "1.0"
      ]
     },
     "execution_count": 27,
     "metadata": {},
     "output_type": "execute_result"
    }
   ],
   "source": [
    "# Try Ridge Regression\n",
    "r_alphas = np.logspace(0, 5, 200) \n",
    "ridge_model = RidgeCV(alphas=r_alphas, store_cv_values=True)\n",
    "ridge_model = ridge_model.fit(X_train_scaled_picked, y_train)\n",
    "ridge_optimal_alpha = ridge_model.alpha_\n",
    "ridge_optimal_alpha"
   ]
  },
  {
   "cell_type": "code",
   "execution_count": 28,
   "metadata": {},
   "outputs": [
    {
     "data": {
      "text/plain": [
       "0.9155796608593949"
      ]
     },
     "execution_count": 28,
     "metadata": {},
     "output_type": "execute_result"
    }
   ],
   "source": [
    "ridge_opt = Ridge(alpha=ridge_optimal_alpha)\n",
    "cross_val_score(ridge_opt, X_train_scaled_picked, y_train).mean()"
   ]
  },
  {
   "cell_type": "code",
   "execution_count": 29,
   "metadata": {},
   "outputs": [
    {
     "data": {
      "text/plain": [
       "65.86777910394683"
      ]
     },
     "execution_count": 29,
     "metadata": {},
     "output_type": "execute_result"
    }
   ],
   "source": [
    "# Try Elastic Net Regression, enet_ratio = 1 is the best (tried few times)\n",
    "enet_ratio = 1\n",
    "enet_model = ElasticNetCV(n_alphas=100, l1_ratio=enet_ratio)\n",
    "enet_model = enet_model.fit(X_train_scaled_picked, y_train)\n",
    "enet_optimal_alpha = enet_model.alpha_\n",
    "enet_optimal_alpha"
   ]
  },
  {
   "cell_type": "code",
   "execution_count": 30,
   "metadata": {},
   "outputs": [
    {
     "data": {
      "text/plain": [
       "0.8926195740654571"
      ]
     },
     "execution_count": 30,
     "metadata": {},
     "output_type": "execute_result"
    }
   ],
   "source": [
    "enet_model = ElasticNet(alpha=enet_optimal_alpha,l1_ratio=enet_ratio)\n",
    "cross_val_score(enet_model, X_train_scaled_picked, y_train).mean()"
   ]
  },
  {
   "cell_type": "markdown",
   "metadata": {},
   "source": [
    "### B. Evaluation"
   ]
  },
  {
   "cell_type": "code",
   "execution_count": 31,
   "metadata": {},
   "outputs": [
    {
     "name": "stderr",
     "output_type": "stream",
     "text": [
      "/anaconda3/envs/dsi/lib/python3.6/site-packages/ipykernel/__main__.py:2: SettingWithCopyWarning: \n",
      "A value is trying to be set on a copy of a slice from a DataFrame\n",
      "\n",
      "See the caveats in the documentation: http://pandas.pydata.org/pandas-docs/stable/indexing.html#indexing-view-versus-copy\n",
      "  from ipykernel import kernelapp as app\n"
     ]
    }
   ],
   "source": [
    "# drop testing data set id and pid which won't be a good predictors\n",
    "X_test.drop(['id','pid'],axis=1,inplace=True)"
   ]
  },
  {
   "cell_type": "code",
   "execution_count": 32,
   "metadata": {},
   "outputs": [
    {
     "data": {
      "text/plain": [
       "(513, 37400)"
      ]
     },
     "execution_count": 32,
     "metadata": {},
     "output_type": "execute_result"
    }
   ],
   "source": [
    "# creat PolynomialFeatures for testing data\n",
    "X_test_poly = PolynomialFeatures(include_bias=False,degree=2)\n",
    "X_test_poly = poly.fit_transform(X_test)\n",
    "X_test_poly.shape"
   ]
  },
  {
   "cell_type": "code",
   "execution_count": 33,
   "metadata": {
    "scrolled": true
   },
   "outputs": [
    {
     "data": {
      "text/plain": [
       "(513, 37400)"
      ]
     },
     "execution_count": 33,
     "metadata": {},
     "output_type": "execute_result"
    }
   ],
   "source": [
    "# standarize the features\n",
    "ss = StandardScaler()\n",
    "X_test_scaled = ss.fit_transform(X_test_poly)\n",
    "X_test_scaled.shape"
   ]
  },
  {
   "cell_type": "code",
   "execution_count": 34,
   "metadata": {},
   "outputs": [],
   "source": [
    "# slice the X_test_scaled data to only the selected features I picked using Lasso feature selection\n",
    "X_test_scaled_df=pd.DataFrame(X_test_scaled,columns=poly.get_feature_names(X_test.columns))\n",
    "X_test_scaled_picked = X_test_scaled_df[features_picked]"
   ]
  },
  {
   "cell_type": "code",
   "execution_count": 35,
   "metadata": {},
   "outputs": [
    {
     "data": {
      "text/plain": [
       "0.9163585368742567"
      ]
     },
     "execution_count": 35,
     "metadata": {},
     "output_type": "execute_result"
    }
   ],
   "source": [
    "# Fit and Score Ridge Regression\n",
    "ridge_model = ridge_model.fit(X_train_scaled_picked, y_train)\n",
    "ridge_model.score(X_test_scaled_picked,y_test)"
   ]
  },
  {
   "cell_type": "code",
   "execution_count": 36,
   "metadata": {
    "scrolled": true
   },
   "outputs": [
    {
     "data": {
      "text/plain": [
       "0.9190279024672294"
      ]
     },
     "execution_count": 36,
     "metadata": {},
     "output_type": "execute_result"
    }
   ],
   "source": [
    "# Fit and Score Elastic Net Regression\n",
    "enet_model = enet_model.fit(X_train_scaled_picked, y_train)\n",
    "enet_model.score(X_test_scaled_picked,y_test)"
   ]
  },
  {
   "cell_type": "code",
   "execution_count": 37,
   "metadata": {
    "scrolled": false
   },
   "outputs": [
    {
     "data": {
      "text/plain": [
       "0.9298597791294881"
      ]
     },
     "execution_count": 37,
     "metadata": {},
     "output_type": "execute_result"
    }
   ],
   "source": [
    "# Fit and Score lasso model on testing data\n",
    "lasso_model_1 = lasso_model_1.fit(X_train_scaled_picked, y_train)\n",
    "lasso_model_1.score(X_test_scaled_picked,y_test)"
   ]
  },
  {
   "cell_type": "markdown",
   "metadata": {},
   "source": [
    "### C. Optimization"
   ]
  },
  {
   "cell_type": "code",
   "execution_count": 38,
   "metadata": {},
   "outputs": [
    {
     "data": {
      "text/plain": [
       "(2051, 368)"
      ]
     },
     "execution_count": 38,
     "metadata": {},
     "output_type": "execute_result"
    }
   ],
   "source": [
    "X_scaled_picked = pd.concat([X_train_scaled_picked,X_test_scaled_picked])\n",
    "X_scaled_picked.shape"
   ]
  },
  {
   "cell_type": "code",
   "execution_count": 39,
   "metadata": {},
   "outputs": [
    {
     "data": {
      "text/plain": [
       "(2051,)"
      ]
     },
     "execution_count": 39,
     "metadata": {},
     "output_type": "execute_result"
    }
   ],
   "source": [
    "y_total = pd.concat([y_train,y_test])\n",
    "y_total.shape"
   ]
  },
  {
   "cell_type": "code",
   "execution_count": 40,
   "metadata": {},
   "outputs": [
    {
     "data": {
      "text/plain": [
       "0.9515593750856383"
      ]
     },
     "execution_count": 40,
     "metadata": {},
     "output_type": "execute_result"
    }
   ],
   "source": [
    "# Fit entire dataset and Score lasso test score\n",
    "X_scaled_picked = pd.concat([X_train_scaled_picked,X_test_scaled_picked])\n",
    "y_total = pd.concat([y_train,y_test])\n",
    "lasso_model_2 = lasso_model_1.fit(X_scaled_picked, y_total)\n",
    "lasso_model_2.score(X_test_scaled_picked,y_test)"
   ]
  },
  {
   "cell_type": "markdown",
   "metadata": {},
   "source": [
    "# 6. Answer Questions\n",
    "\n",
    "### Questions:  \n",
    "1. Get knowledge of the most important elements that people care about when buying a house in Ames, IA\n",
    "2. Predict the price of house at sale using the Ames Iowa Housing dataset\n",
    "\n",
    "### Way to Answer:  \n",
    "1. Check the Coefficients of the model\n",
    "2. Use the test dataset to predict the sales price of Ames\n",
    "\n",
    "### Answer:  \n",
    "![answer](Final_Answer.png)"
   ]
  },
  {
   "cell_type": "code",
   "execution_count": 42,
   "metadata": {
    "scrolled": true
   },
   "outputs": [],
   "source": [
    "# check the lasso coefficients\n",
    "lasso_model_2 = lasso_model_1.fit(X_scaled_picked, y_total)\n",
    "lasso_coef_2 = pd.Series(data=lasso_model_2.coef_, index=X_train_scaled_picked.columns)\n",
    "lasso_coef_2 = pd.DataFrame(data=lasso_coef_2)\n",
    "lasso_coef_2.rename(columns={0:'lasso_coef'},inplace=True)\n",
    "lasso_coef_2['lasso_coef_abs'] = lasso_coef_2['lasso_coef'].abs()\n",
    "lasso_coef_2.sort_values(by='lasso_coef_abs',ascending=False)\n",
    "features_picked_2 = lasso_coef_2[lasso_coef_2.lasso_coef!=0].index"
   ]
  },
  {
   "cell_type": "code",
   "execution_count": 43,
   "metadata": {
    "scrolled": true
   },
   "outputs": [
    {
     "data": {
      "text/html": [
       "<div>\n",
       "<style scoped>\n",
       "    .dataframe tbody tr th:only-of-type {\n",
       "        vertical-align: middle;\n",
       "    }\n",
       "\n",
       "    .dataframe tbody tr th {\n",
       "        vertical-align: top;\n",
       "    }\n",
       "\n",
       "    .dataframe thead th {\n",
       "        text-align: right;\n",
       "    }\n",
       "</style>\n",
       "<table border=\"1\" class=\"dataframe\">\n",
       "  <thead>\n",
       "    <tr style=\"text-align: right;\">\n",
       "      <th></th>\n",
       "      <th>lasso_coef</th>\n",
       "      <th>lasso_coef_abs</th>\n",
       "    </tr>\n",
       "  </thead>\n",
       "  <tbody>\n",
       "    <tr>\n",
       "      <th>overall_qual gr_liv_area</th>\n",
       "      <td>18645.918614</td>\n",
       "      <td>18645.918614</td>\n",
       "    </tr>\n",
       "    <tr>\n",
       "      <th>half_bath pool_qc_Gd</th>\n",
       "      <td>-10982.224945</td>\n",
       "      <td>10982.224945</td>\n",
       "    </tr>\n",
       "    <tr>\n",
       "      <th>overall_cond gr_liv_area</th>\n",
       "      <td>9019.628421</td>\n",
       "      <td>9019.628421</td>\n",
       "    </tr>\n",
       "    <tr>\n",
       "      <th>overall_qual garage_area</th>\n",
       "      <td>5502.518096</td>\n",
       "      <td>5502.518096</td>\n",
       "    </tr>\n",
       "    <tr>\n",
       "      <th>year_built year_remod/add</th>\n",
       "      <td>5431.422073</td>\n",
       "      <td>5431.422073</td>\n",
       "    </tr>\n",
       "    <tr>\n",
       "      <th>overall_qual total_bsmt_sf</th>\n",
       "      <td>5170.781396</td>\n",
       "      <td>5170.781396</td>\n",
       "    </tr>\n",
       "    <tr>\n",
       "      <th>overall_qual misc_feature_Elev</th>\n",
       "      <td>-3991.974233</td>\n",
       "      <td>3991.974233</td>\n",
       "    </tr>\n",
       "    <tr>\n",
       "      <th>overall_cond misc_feature_Elev</th>\n",
       "      <td>-3913.613769</td>\n",
       "      <td>3913.613769</td>\n",
       "    </tr>\n",
       "    <tr>\n",
       "      <th>bsmtfin_sf_1 condition_1_Norm</th>\n",
       "      <td>3829.189107</td>\n",
       "      <td>3829.189107</td>\n",
       "    </tr>\n",
       "    <tr>\n",
       "      <th>overall_qual fireplaces</th>\n",
       "      <td>3724.080140</td>\n",
       "      <td>3724.080140</td>\n",
       "    </tr>\n",
       "    <tr>\n",
       "      <th>lot_area paved_drive_Y</th>\n",
       "      <td>3425.209764</td>\n",
       "      <td>3425.209764</td>\n",
       "    </tr>\n",
       "    <tr>\n",
       "      <th>mas_vnr_area neighborhood_NridgHt</th>\n",
       "      <td>3251.141657</td>\n",
       "      <td>3251.141657</td>\n",
       "    </tr>\n",
       "    <tr>\n",
       "      <th>gr_liv_area functional_Typ</th>\n",
       "      <td>3067.565468</td>\n",
       "      <td>3067.565468</td>\n",
       "    </tr>\n",
       "    <tr>\n",
       "      <th>roof_style_Hip sale_type_New</th>\n",
       "      <td>3066.384110</td>\n",
       "      <td>3066.384110</td>\n",
       "    </tr>\n",
       "    <tr>\n",
       "      <th>lot_area neighborhood_GrnHill</th>\n",
       "      <td>2835.826324</td>\n",
       "      <td>2835.826324</td>\n",
       "    </tr>\n",
       "    <tr>\n",
       "      <th>year_built^2</th>\n",
       "      <td>2637.945291</td>\n",
       "      <td>2637.945291</td>\n",
       "    </tr>\n",
       "    <tr>\n",
       "      <th>total_bsmt_sf foundation_PConc</th>\n",
       "      <td>2405.257003</td>\n",
       "      <td>2405.257003</td>\n",
       "    </tr>\n",
       "    <tr>\n",
       "      <th>overall_qual 1st_flr_sf</th>\n",
       "      <td>2177.213850</td>\n",
       "      <td>2177.213850</td>\n",
       "    </tr>\n",
       "    <tr>\n",
       "      <th>neighborhood_StoneBr fireplace_qu_Gd</th>\n",
       "      <td>2066.659528</td>\n",
       "      <td>2066.659528</td>\n",
       "    </tr>\n",
       "    <tr>\n",
       "      <th>overall_qual garage_cars</th>\n",
       "      <td>2065.134717</td>\n",
       "      <td>2065.134717</td>\n",
       "    </tr>\n",
       "    <tr>\n",
       "      <th>screen_porch bsmtfin_type_2_GLQ</th>\n",
       "      <td>1960.133683</td>\n",
       "      <td>1960.133683</td>\n",
       "    </tr>\n",
       "    <tr>\n",
       "      <th>gr_liv_area ms_zoning_RM</th>\n",
       "      <td>-1959.987916</td>\n",
       "      <td>1959.987916</td>\n",
       "    </tr>\n",
       "    <tr>\n",
       "      <th>mas_vnr_type_Stone bsmt_qual_Ex</th>\n",
       "      <td>1888.975568</td>\n",
       "      <td>1888.975568</td>\n",
       "    </tr>\n",
       "    <tr>\n",
       "      <th>overall_qual bsmt_qual_Ex</th>\n",
       "      <td>1843.163882</td>\n",
       "      <td>1843.163882</td>\n",
       "    </tr>\n",
       "    <tr>\n",
       "      <th>neighborhood_NridgHt bsmt_qual_Ex</th>\n",
       "      <td>1802.671579</td>\n",
       "      <td>1802.671579</td>\n",
       "    </tr>\n",
       "    <tr>\n",
       "      <th>lot_area neighborhood_StoneBr</th>\n",
       "      <td>1792.400928</td>\n",
       "      <td>1792.400928</td>\n",
       "    </tr>\n",
       "    <tr>\n",
       "      <th>gr_liv_area exter_qual_TA</th>\n",
       "      <td>-1785.893957</td>\n",
       "      <td>1785.893957</td>\n",
       "    </tr>\n",
       "    <tr>\n",
       "      <th>lot_area overall_cond</th>\n",
       "      <td>1770.573451</td>\n",
       "      <td>1770.573451</td>\n",
       "    </tr>\n",
       "    <tr>\n",
       "      <th>bsmtfin_sf_1 exterior_2nd_VinylSd</th>\n",
       "      <td>1718.189672</td>\n",
       "      <td>1718.189672</td>\n",
       "    </tr>\n",
       "    <tr>\n",
       "      <th>bsmtfin_sf_1 bsmtfin_type_1_GLQ</th>\n",
       "      <td>1689.427598</td>\n",
       "      <td>1689.427598</td>\n",
       "    </tr>\n",
       "    <tr>\n",
       "      <th>...</th>\n",
       "      <td>...</td>\n",
       "      <td>...</td>\n",
       "    </tr>\n",
       "    <tr>\n",
       "      <th>bsmtfin_sf_2 mas_vnr_type_BrkCmn</th>\n",
       "      <td>-0.000000</td>\n",
       "      <td>0.000000</td>\n",
       "    </tr>\n",
       "    <tr>\n",
       "      <th>bsmtfin_sf_2 exterior_2nd_Stucco</th>\n",
       "      <td>-0.000000</td>\n",
       "      <td>0.000000</td>\n",
       "    </tr>\n",
       "    <tr>\n",
       "      <th>bsmtfin_sf_2 exterior_1st_Stucco</th>\n",
       "      <td>-0.000000</td>\n",
       "      <td>0.000000</td>\n",
       "    </tr>\n",
       "    <tr>\n",
       "      <th>neighborhood_Timber fireplace_qu_Gd</th>\n",
       "      <td>0.000000</td>\n",
       "      <td>0.000000</td>\n",
       "    </tr>\n",
       "    <tr>\n",
       "      <th>condition_1_Norm exterior_1st_BrkFace</th>\n",
       "      <td>0.000000</td>\n",
       "      <td>0.000000</td>\n",
       "    </tr>\n",
       "    <tr>\n",
       "      <th>condition_1_PosA exterior_1st_MetalSd</th>\n",
       "      <td>0.000000</td>\n",
       "      <td>0.000000</td>\n",
       "    </tr>\n",
       "    <tr>\n",
       "      <th>condition_1_PosA exterior_2nd_MetalSd</th>\n",
       "      <td>0.000000</td>\n",
       "      <td>0.000000</td>\n",
       "    </tr>\n",
       "    <tr>\n",
       "      <th>bsmtfin_sf_1 bsmtfin_type_2_GLQ</th>\n",
       "      <td>0.000000</td>\n",
       "      <td>0.000000</td>\n",
       "    </tr>\n",
       "    <tr>\n",
       "      <th>neighborhood_NoRidge exterior_1st_HdBoard</th>\n",
       "      <td>-0.000000</td>\n",
       "      <td>0.000000</td>\n",
       "    </tr>\n",
       "    <tr>\n",
       "      <th>neighborhood_NAmes fireplace_qu_TA</th>\n",
       "      <td>-0.000000</td>\n",
       "      <td>0.000000</td>\n",
       "    </tr>\n",
       "    <tr>\n",
       "      <th>neighborhood_NAmes mas_vnr_type_BrkCmn</th>\n",
       "      <td>-0.000000</td>\n",
       "      <td>0.000000</td>\n",
       "    </tr>\n",
       "    <tr>\n",
       "      <th>neighborhood_Mitchel bsmtfin_type_1_LwQ</th>\n",
       "      <td>-0.000000</td>\n",
       "      <td>0.000000</td>\n",
       "    </tr>\n",
       "    <tr>\n",
       "      <th>neighborhood_ClearCr bsmt_qual_Ex</th>\n",
       "      <td>0.000000</td>\n",
       "      <td>0.000000</td>\n",
       "    </tr>\n",
       "    <tr>\n",
       "      <th>2nd_flr_sf neighborhood_Crawfor</th>\n",
       "      <td>0.000000</td>\n",
       "      <td>0.000000</td>\n",
       "    </tr>\n",
       "    <tr>\n",
       "      <th>neighborhood_ClearCr garage_finish_RFn</th>\n",
       "      <td>0.000000</td>\n",
       "      <td>0.000000</td>\n",
       "    </tr>\n",
       "    <tr>\n",
       "      <th>neighborhood_CollgCr bldg_type_Duplex</th>\n",
       "      <td>-0.000000</td>\n",
       "      <td>0.000000</td>\n",
       "    </tr>\n",
       "    <tr>\n",
       "      <th>2nd_flr_sf ms_zoning_RM</th>\n",
       "      <td>-0.000000</td>\n",
       "      <td>0.000000</td>\n",
       "    </tr>\n",
       "    <tr>\n",
       "      <th>neighborhood_Crawfor exterior_1st_VinylSd</th>\n",
       "      <td>0.000000</td>\n",
       "      <td>0.000000</td>\n",
       "    </tr>\n",
       "    <tr>\n",
       "      <th>neighborhood_Crawfor exterior_2nd_VinylSd</th>\n",
       "      <td>0.000000</td>\n",
       "      <td>0.000000</td>\n",
       "    </tr>\n",
       "    <tr>\n",
       "      <th>1st_flr_sf bsmtfin_type_1_GLQ</th>\n",
       "      <td>0.000000</td>\n",
       "      <td>0.000000</td>\n",
       "    </tr>\n",
       "    <tr>\n",
       "      <th>1st_flr_sf bsmt_qual_Ex</th>\n",
       "      <td>0.000000</td>\n",
       "      <td>0.000000</td>\n",
       "    </tr>\n",
       "    <tr>\n",
       "      <th>neighborhood_Crawfor garage_cond_Fa</th>\n",
       "      <td>0.000000</td>\n",
       "      <td>0.000000</td>\n",
       "    </tr>\n",
       "    <tr>\n",
       "      <th>neighborhood_Edwards exterior_1st_BrkComm</th>\n",
       "      <td>-0.000000</td>\n",
       "      <td>0.000000</td>\n",
       "    </tr>\n",
       "    <tr>\n",
       "      <th>neighborhood_Edwards exterior_2nd_Brk Cmn</th>\n",
       "      <td>-0.000000</td>\n",
       "      <td>0.000000</td>\n",
       "    </tr>\n",
       "    <tr>\n",
       "      <th>total_bsmt_sf functional_Typ</th>\n",
       "      <td>0.000000</td>\n",
       "      <td>0.000000</td>\n",
       "    </tr>\n",
       "    <tr>\n",
       "      <th>total_bsmt_sf land_contour_HLS</th>\n",
       "      <td>0.000000</td>\n",
       "      <td>0.000000</td>\n",
       "    </tr>\n",
       "    <tr>\n",
       "      <th>neighborhood_Edwards fireplace_qu_TA</th>\n",
       "      <td>0.000000</td>\n",
       "      <td>0.000000</td>\n",
       "    </tr>\n",
       "    <tr>\n",
       "      <th>neighborhood_Edwards pool_qc_Gd</th>\n",
       "      <td>-0.000000</td>\n",
       "      <td>0.000000</td>\n",
       "    </tr>\n",
       "    <tr>\n",
       "      <th>total_bsmt_sf lot_shape_IR3</th>\n",
       "      <td>-0.000000</td>\n",
       "      <td>0.000000</td>\n",
       "    </tr>\n",
       "    <tr>\n",
       "      <th>bsmt_unf_sf neighborhood_SawyerW</th>\n",
       "      <td>-0.000000</td>\n",
       "      <td>0.000000</td>\n",
       "    </tr>\n",
       "  </tbody>\n",
       "</table>\n",
       "<p>368 rows × 2 columns</p>\n",
       "</div>"
      ],
      "text/plain": [
       "                                             lasso_coef  lasso_coef_abs\n",
       "overall_qual gr_liv_area                   18645.918614    18645.918614\n",
       "half_bath pool_qc_Gd                      -10982.224945    10982.224945\n",
       "overall_cond gr_liv_area                    9019.628421     9019.628421\n",
       "overall_qual garage_area                    5502.518096     5502.518096\n",
       "year_built year_remod/add                   5431.422073     5431.422073\n",
       "overall_qual total_bsmt_sf                  5170.781396     5170.781396\n",
       "overall_qual misc_feature_Elev             -3991.974233     3991.974233\n",
       "overall_cond misc_feature_Elev             -3913.613769     3913.613769\n",
       "bsmtfin_sf_1 condition_1_Norm               3829.189107     3829.189107\n",
       "overall_qual fireplaces                     3724.080140     3724.080140\n",
       "lot_area paved_drive_Y                      3425.209764     3425.209764\n",
       "mas_vnr_area neighborhood_NridgHt           3251.141657     3251.141657\n",
       "gr_liv_area functional_Typ                  3067.565468     3067.565468\n",
       "roof_style_Hip sale_type_New                3066.384110     3066.384110\n",
       "lot_area neighborhood_GrnHill               2835.826324     2835.826324\n",
       "year_built^2                                2637.945291     2637.945291\n",
       "total_bsmt_sf foundation_PConc              2405.257003     2405.257003\n",
       "overall_qual 1st_flr_sf                     2177.213850     2177.213850\n",
       "neighborhood_StoneBr fireplace_qu_Gd        2066.659528     2066.659528\n",
       "overall_qual garage_cars                    2065.134717     2065.134717\n",
       "screen_porch bsmtfin_type_2_GLQ             1960.133683     1960.133683\n",
       "gr_liv_area ms_zoning_RM                   -1959.987916     1959.987916\n",
       "mas_vnr_type_Stone bsmt_qual_Ex             1888.975568     1888.975568\n",
       "overall_qual bsmt_qual_Ex                   1843.163882     1843.163882\n",
       "neighborhood_NridgHt bsmt_qual_Ex           1802.671579     1802.671579\n",
       "lot_area neighborhood_StoneBr               1792.400928     1792.400928\n",
       "gr_liv_area exter_qual_TA                  -1785.893957     1785.893957\n",
       "lot_area overall_cond                       1770.573451     1770.573451\n",
       "bsmtfin_sf_1 exterior_2nd_VinylSd           1718.189672     1718.189672\n",
       "bsmtfin_sf_1 bsmtfin_type_1_GLQ             1689.427598     1689.427598\n",
       "...                                                 ...             ...\n",
       "bsmtfin_sf_2 mas_vnr_type_BrkCmn              -0.000000        0.000000\n",
       "bsmtfin_sf_2 exterior_2nd_Stucco              -0.000000        0.000000\n",
       "bsmtfin_sf_2 exterior_1st_Stucco              -0.000000        0.000000\n",
       "neighborhood_Timber fireplace_qu_Gd            0.000000        0.000000\n",
       "condition_1_Norm exterior_1st_BrkFace          0.000000        0.000000\n",
       "condition_1_PosA exterior_1st_MetalSd          0.000000        0.000000\n",
       "condition_1_PosA exterior_2nd_MetalSd          0.000000        0.000000\n",
       "bsmtfin_sf_1 bsmtfin_type_2_GLQ                0.000000        0.000000\n",
       "neighborhood_NoRidge exterior_1st_HdBoard     -0.000000        0.000000\n",
       "neighborhood_NAmes fireplace_qu_TA            -0.000000        0.000000\n",
       "neighborhood_NAmes mas_vnr_type_BrkCmn        -0.000000        0.000000\n",
       "neighborhood_Mitchel bsmtfin_type_1_LwQ       -0.000000        0.000000\n",
       "neighborhood_ClearCr bsmt_qual_Ex              0.000000        0.000000\n",
       "2nd_flr_sf neighborhood_Crawfor                0.000000        0.000000\n",
       "neighborhood_ClearCr garage_finish_RFn         0.000000        0.000000\n",
       "neighborhood_CollgCr bldg_type_Duplex         -0.000000        0.000000\n",
       "2nd_flr_sf ms_zoning_RM                       -0.000000        0.000000\n",
       "neighborhood_Crawfor exterior_1st_VinylSd      0.000000        0.000000\n",
       "neighborhood_Crawfor exterior_2nd_VinylSd      0.000000        0.000000\n",
       "1st_flr_sf bsmtfin_type_1_GLQ                  0.000000        0.000000\n",
       "1st_flr_sf bsmt_qual_Ex                        0.000000        0.000000\n",
       "neighborhood_Crawfor garage_cond_Fa            0.000000        0.000000\n",
       "neighborhood_Edwards exterior_1st_BrkComm     -0.000000        0.000000\n",
       "neighborhood_Edwards exterior_2nd_Brk Cmn     -0.000000        0.000000\n",
       "total_bsmt_sf functional_Typ                   0.000000        0.000000\n",
       "total_bsmt_sf land_contour_HLS                 0.000000        0.000000\n",
       "neighborhood_Edwards fireplace_qu_TA           0.000000        0.000000\n",
       "neighborhood_Edwards pool_qc_Gd               -0.000000        0.000000\n",
       "total_bsmt_sf lot_shape_IR3                   -0.000000        0.000000\n",
       "bsmt_unf_sf neighborhood_SawyerW              -0.000000        0.000000\n",
       "\n",
       "[368 rows x 2 columns]"
      ]
     },
     "execution_count": 43,
     "metadata": {},
     "output_type": "execute_result"
    }
   ],
   "source": [
    "lasso_coef_2.sort_values(by='lasso_coef_abs',ascending=False)"
   ]
  },
  {
   "cell_type": "code",
   "execution_count": 44,
   "metadata": {
    "scrolled": false
   },
   "outputs": [
    {
     "data": {
      "text/plain": [
       "Text(0,0.5,'y_test')"
      ]
     },
     "execution_count": 44,
     "metadata": {},
     "output_type": "execute_result"
    },
    {
     "data": {
      "image/png": "[encoded data removed]",
      "text/plain": [
       "<Figure size 432x288 with 1 Axes>"
      ]
     },
     "metadata": {
      "image/png": {
       "height": 268,
       "width": 423
      }
     },
     "output_type": "display_data"
    }
   ],
   "source": [
    "# plot the predictions based on test dataset\n",
    "y_test_hat = lasso_model_2.predict(X_test_scaled_picked)\n",
    "sns.regplot(y_test_hat,y_test)\n",
    "plt.xlabel('y_test_hat',fontsize=18)\n",
    "plt.ylabel('y_test',fontsize=18)"
   ]
  },
  {
   "cell_type": "code",
   "execution_count": 46,
   "metadata": {
    "scrolled": false
   },
   "outputs": [
    {
     "data": {
      "text/plain": [
       "lasso_coef        225\n",
       "lasso_coef_abs    225\n",
       "dtype: int64"
      ]
     },
     "execution_count": 46,
     "metadata": {},
     "output_type": "execute_result"
    }
   ],
   "source": [
    "# 225 out of 368 predictors are left, others are zero out\n",
    "lasso_coef_2[lasso_coef_2['lasso_coef_abs']!=0].count()"
   ]
  },
  {
   "cell_type": "code",
   "execution_count": 47,
   "metadata": {},
   "outputs": [
    {
     "data": {
      "text/plain": [
       "(368, 2)"
      ]
     },
     "execution_count": 47,
     "metadata": {},
     "output_type": "execute_result"
    }
   ],
   "source": [
    "lasso_coef_2.shape"
   ]
  },
  {
   "cell_type": "code",
   "execution_count": 48,
   "metadata": {},
   "outputs": [
    {
     "data": {
      "text/plain": [
       "(879, 37949)"
      ]
     },
     "execution_count": 48,
     "metadata": {},
     "output_type": "execute_result"
    }
   ],
   "source": [
    "# creat PolynomialFeatures for predicting data\n",
    "poly = PolynomialFeatures(include_bias=False,degree=2)\n",
    "predict_poly = poly.fit_transform(predict)\n",
    "predict_poly.shape"
   ]
  },
  {
   "cell_type": "code",
   "execution_count": 49,
   "metadata": {
    "scrolled": true
   },
   "outputs": [
    {
     "data": {
      "text/plain": [
       "(879, 37949)"
      ]
     },
     "execution_count": 49,
     "metadata": {},
     "output_type": "execute_result"
    }
   ],
   "source": [
    "# standarize the features for predicting data\n",
    "ss = StandardScaler()\n",
    "predict_scaled = ss.fit_transform(predict_poly)\n",
    "predict_scaled.shape"
   ]
  },
  {
   "cell_type": "code",
   "execution_count": 50,
   "metadata": {},
   "outputs": [
    {
     "data": {
      "text/plain": [
       "(879, 368)"
      ]
     },
     "execution_count": 50,
     "metadata": {},
     "output_type": "execute_result"
    }
   ],
   "source": [
    "predict_scaled_df=pd.DataFrame(predict_scaled,columns=poly.get_feature_names(predict.columns))\n",
    "predict_scaled_picked = predict_scaled_df[features_picked]\n",
    "predict_scaled_picked.shape"
   ]
  },
  {
   "cell_type": "code",
   "execution_count": 51,
   "metadata": {
    "scrolled": false
   },
   "outputs": [
    {
     "name": "stderr",
     "output_type": "stream",
     "text": [
      "/anaconda3/envs/dsi/lib/python3.6/site-packages/ipykernel/__main__.py:2: SettingWithCopyWarning: \n",
      "A value is trying to be set on a copy of a slice from a DataFrame.\n",
      "Try using .loc[row_indexer,col_indexer] = value instead\n",
      "\n",
      "See the caveats in the documentation: http://pandas.pydata.org/pandas-docs/stable/indexing.html#indexing-view-versus-copy\n",
      "  from ipykernel import kernelapp as app\n"
     ]
    },
    {
     "data": {
      "text/plain": [
       "(879,)"
      ]
     },
     "execution_count": 51,
     "metadata": {},
     "output_type": "execute_result"
    }
   ],
   "source": [
    "# predict y using predicting value\n",
    "predict['saleprice'] = lasso_model_2.predict(predict_scaled_picked)\n",
    "predict['saleprice'].shape"
   ]
  },
  {
   "cell_type": "code",
   "execution_count": 52,
   "metadata": {
    "scrolled": true
   },
   "outputs": [
    {
     "name": "stderr",
     "output_type": "stream",
     "text": [
      "/anaconda3/envs/dsi/lib/python3.6/site-packages/pandas/core/frame.py:3027: SettingWithCopyWarning: \n",
      "A value is trying to be set on a copy of a slice from a DataFrame\n",
      "\n",
      "See the caveats in the documentation: http://pandas.pydata.org/pandas-docs/stable/indexing.html#indexing-view-versus-copy\n",
      "  return super(DataFrame, self).rename(**kwargs)\n",
      "/anaconda3/envs/dsi/lib/python3.6/site-packages/pandas/core/generic.py:3643: SettingWithCopyWarning: \n",
      "A value is trying to be set on a copy of a slice from a DataFrame.\n",
      "Try using .loc[row_indexer,col_indexer] = value instead\n",
      "\n",
      "See the caveats in the documentation: http://pandas.pydata.org/pandas-docs/stable/indexing.html#indexing-view-versus-copy\n",
      "  self[name] = value\n"
     ]
    }
   ],
   "source": [
    "# slice the id and saleprice columns from test dataset and save it to csv file\n",
    "result = predict[['id','saleprice']]\n",
    "result.rename(columns={\"id\": \"Id\", \"saleprice\": \"SalePrice\"},inplace=True)\n",
    "result.set_index('Id',drop=True,inplace=True)\n",
    "result.SalePrice = result.SalePrice.round(4)\n",
    "result = result.sort_index(ascending=True)\n",
    "result.to_csv('result.csv')"
   ]
  }
 ],
 "metadata": {
  "kernelspec": {
   "display_name": "Python [conda env:dsi]",
   "language": "python",
   "name": "conda-env-dsi-py"
  },
  "language_info": {
   "codemirror_mode": {
    "name": "ipython",
    "version": 3
   },
   "file_extension": ".py",
   "mimetype": "text/x-python",
   "name": "python",
   "nbconvert_exporter": "python",
   "pygments_lexer": "ipython3",
   "version": "3.6.5"
  }
 },
 "nbformat": 4,
 "nbformat_minor": 2
}
